{
  "nbformat": 4,
  "nbformat_minor": 0,
  "metadata": {
    "colab": {
      "name": "1_MakeABasicMap.ipynb",
      "provenance": [],
      "collapsed_sections": [],
      "include_colab_link": true
    },
    "kernelspec": {
      "name": "python3",
      "display_name": "Python 3"
    }
  },
  "cells": [
    {
      "cell_type": "markdown",
      "metadata": {
        "id": "view-in-github",
        "colab_type": "text"
      },
      "source": [
        "<a href=\"https://colab.research.google.com/github/Francoz-Charlotte/Spatial_teaching_CFediting/blob/master/1_MakeABasicMap_CFediting.ipynb\" target=\"_parent\"><img src=\"https://colab.research.google.com/assets/colab-badge.svg\" alt=\"Open In Colab\"/></a>"
      ]
    },
    {
      "cell_type": "markdown",
      "metadata": {
        "id": "dfXStwLAk9GC",
        "colab_type": "text"
      },
      "source": [
        "# Getting Started\n",
        "\n",
        "First things first, if you haven't already done so: you need your own copy of this notebook. Once in Colab, go to \"File\" and  'save a copy in github' (give access if needed.... put it into the repository you made for this course).\n",
        "\n",
        "Now you have your own copy of the notebook. Click 'open in colab' to get started working on the practical exercise. \n",
        "\n",
        "* **Reminders**:    \n",
        " * [GitHub](https://github.com/) is widely known as one of the most famous code hosting platforms for version control and collaboration. This is where these notebooks will be saved and accessed publicly.\n",
        " * [Jupyter notebooks](https://jupyter.org) are web applications that you will be used for the next practical classes which ease the creation and sharing of documents containing live code. You can explore a [gallery](https://github.com/jupyter/jupyter/wiki/A-gallery-of-interesting-Jupyter-Notebooks) of interesting Jupyter notebooks and read why Jupyter is ‘data scientists’ computational notebook of choice ([i](https://www.nature.com/news/interactive-notebooks-sharing-the-code-1.16261) and [ii](https://www.nature.com/articles/d41586-018-07196-1)).\n",
        " * [Colab](https://colab.research.google.com) is a working platform enabling the creation of machine learning model, or, in other word the application of artificial intelligence (AI) that provides systems the ability to automatically learn and improve from experience without being explicitly programmed. Colab platform is provided by Google and allow Jupyter notebook environment to be populated where you can use free GPUs (Graphics Processing Unit just like a plug-in within to renders images, animations and video for instance) and TPUs (Tensor Processing Unit). Colab was chosen as it is a more stable platform for our practical classes, however, this is not the only way to interact with your notebooks, [binder](https://mybinder.org/) among others is also a live environment you can use to share your Git repositories.  \n",
        " \n",
        "\n",
        "\n",
        "---\n",
        "\n",
        "\n",
        "# What's a notebook and how does it work?\n",
        "The layout of these notebooks is simplified compared to most web application ‘architecture’ and is composed of two types of cells: \n",
        "\n",
        "* Text cells which are explanatory and that I will be using - a lot- to describe things to you.  These cells can be easily edited in a language called  [Markdown](https://jupyter-notebook.readthedocs.io/en/stable/examples/Notebook/Working%20With%20Markdown%20Cells.html).\n",
        "\n",
        "* Code cells which we will use to do things. They  are executable code, mostly written in programming [language](https://jupyter-notebook.readthedocs.io/en/stable/examples/Notebook/Running%20Code.html#Code-cells-allow-you-to-enter-and-run-code). To make things happen in a code cell you can click on the cell and then type 'ctrl + enter' or push the play button that will appear on the left. These code cells are commonly using a language called [Python](https://www.python.org/) or [R](https://www.r-project.org/). In this course we'll mostly be using python. As you know, stereotypically archaeologists hate snakes. Python is the exception to this. \n",
        "\n",
        "You can add text or code cells to your version of the notebook (how? place the cursor at the bottom of a cell, and 2 tabs appear - code cell or text cell, chose 1 and you are ready to go!). \n",
        "\n",
        "\n",
        "\n",
        "---\n",
        "\n",
        " \n"
      ]
    },
    {
      "cell_type": "markdown",
      "metadata": {
        "id": "vVM1mmNj6SWE",
        "colab_type": "text"
      },
      "source": [
        "\n",
        "# What we are doing\n",
        "In this practical exercise, you will make some basic maps. You're making them interactively in this notebook. To get started, we will get the tools we need. These tools are open source libraries from Python that allows powerful data visualisation. This is in fact the first bit of python code you are using! \n",
        "\n",
        "We will always start a practical exercise in a notebook  like this. In this lab, we are using Panda, Folium and Branca libraries."
      ]
    },
    {
      "cell_type": "code",
      "metadata": {
        "id": "ws-jEcyKk0MF",
        "colab_type": "code",
        "outputId": "f091b451-7897-4410-fdc0-ca4d4de84292",
        "colab": {
          "base_uri": "https://localhost:8080/",
          "height": 55
        }
      },
      "source": [
        "#codecell_makeabasicmap_importyourlibraries\n",
        "import folium\n",
        "import branca\n",
        "import pandas as pd\n",
        "print(folium.__file__)\n",
        "print(folium.__version__)"
      ],
      "execution_count": 0,
      "outputs": [
        {
          "output_type": "stream",
          "text": [
            "/usr/local/lib/python3.6/dist-packages/folium/__init__.py\n",
            "0.8.3\n"
          ],
          "name": "stdout"
        }
      ]
    },
    {
      "cell_type": "markdown",
      "metadata": {
        "id": "ZnRemIE7mUQK",
        "colab_type": "text"
      },
      "source": [
        "# To make a map we need to get some data. \n",
        "This data must be explicitly spatial - that is have spatial coordinates that tell us about locations in a way that machines can understand. Spatial coordinates are pairs of numbers organised on a x-horizontal and y-vertical axis – this is the bit of geometry you will be using the most as an archaeologist! \n",
        "\n",
        "Coordinates (x,y) can also be called eastings & northings or latitude & longitudes depending on the type projection used to transform the map (refer to your First Course Meeting notes). The most common coordinate format for maps on the internet are [latitude and longitude coordinates](https://www.latlong.net/). \n",
        "\n",
        "\n",
        "\n",
        "---\n",
        "\n",
        "\n",
        "\n",
        "![Xs&Ys](https://github.com/Francoz-Charlotte/Spatial_teaching_CFediting/blob/master/x&y.png?raw=1) \n",
        "\n",
        "**Example of a cylindrical projection of the world**\n",
        "\n",
        "\n",
        "\n",
        "---\n",
        "\n",
        "\n",
        "\n",
        "\n",
        "In this notebook, we'll experiment with the spatial data from:\n",
        "\n",
        " Palmisano, A., Bevan, A. and Shennan, S., 2018. Regional Demographic Trends and Settlement Patterns in Central Italy: Archaeological Sites and Radiocarbon Dates. **Journal of Open Archaeology Data**, 6(1), p.2. DOI: [http://doi.org/10.5334/joad.43](http://doi.org/10.5334/joad.43)\n",
        " \n",
        "(Which you should have read about before class!)\n",
        " \n",
        "\n",
        "---\n",
        "\n",
        "\n",
        "These nice people provided the data behind their analysis so we can re-use it. I converted their old school shapefile to a CSV for you to make things easier. If you ever have to do this yourself, there are lots of online converters like [this one](https://mygeodata.cloud/converter/shp-to-csv). \n",
        "\n",
        "Later in the course, you will also learn to read data from shapefiles directly into your notebook. This is a little more complicated, so we are skipping it for now.\n",
        "\n",
        "* **Reminders**: \n",
        "a shapefile is a vector data storage file format that can be used in spatial software such as [Q-GIS](https://www.qgis.org/en/site/) (refer to your First Course Meeting notes). \n",
        "A CSV file is simple tabular file format using commas or space to distinguish elements within it.\n"
      ]
    },
    {
      "cell_type": "code",
      "metadata": {
        "id": "F0B_wkOblGUW",
        "colab_type": "code",
        "outputId": "e721b7ba-4016-48d6-c607-5efb5d48a16d",
        "colab": {
          "base_uri": "https://localhost:8080/",
          "height": 206
        }
      },
      "source": [
        "#codecell_makeabasicmap_GetUrdataReady\n",
        "\n",
        "#Get the data by reading it into the notebook\n",
        "palmisano_tuscany_sites = pd.read_csv(\"https://raw.githubusercontent.com/ropitz/spatialarchaeology/master/data/site_centriods_tuscany.txt\")\n",
        "\n",
        "palmisano_tuscany_sites.head()"
      ],
      "execution_count": 31,
      "outputs": [
        {
          "output_type": "execute_result",
          "data": {
            "text/html": [
              "<div>\n",
              "<style scoped>\n",
              "    .dataframe tbody tr th:only-of-type {\n",
              "        vertical-align: middle;\n",
              "    }\n",
              "\n",
              "    .dataframe tbody tr th {\n",
              "        vertical-align: top;\n",
              "    }\n",
              "\n",
              "    .dataframe thead th {\n",
              "        text-align: right;\n",
              "    }\n",
              "</style>\n",
              "<table border=\"1\" class=\"dataframe\">\n",
              "  <thead>\n",
              "    <tr style=\"text-align: right;\">\n",
              "      <th></th>\n",
              "      <th>OBJECTID</th>\n",
              "      <th>Id</th>\n",
              "      <th>Toponyms</th>\n",
              "      <th>Type</th>\n",
              "      <th>Period</th>\n",
              "      <th>StartDate</th>\n",
              "      <th>EndDate</th>\n",
              "      <th>Longitude</th>\n",
              "      <th>Latitude</th>\n",
              "      <th>LocQual</th>\n",
              "      <th>SizeHa</th>\n",
              "      <th>SizeQual</th>\n",
              "      <th>Source</th>\n",
              "      <th>Source_id</th>\n",
              "      <th>ORIG_FID</th>\n",
              "    </tr>\n",
              "  </thead>\n",
              "  <tbody>\n",
              "    <tr>\n",
              "      <th>0</th>\n",
              "      <td>1</td>\n",
              "      <td>1</td>\n",
              "      <td>Padiglione</td>\n",
              "      <td>settlement</td>\n",
              "      <td>Iron Age</td>\n",
              "      <td>-800</td>\n",
              "      <td>-700</td>\n",
              "      <td>12.639324</td>\n",
              "      <td>41.515316</td>\n",
              "      <td>A</td>\n",
              "      <td>0.2</td>\n",
              "      <td>E</td>\n",
              "      <td>Attema et al. 2010, p. 229</td>\n",
              "      <td>15114</td>\n",
              "      <td>0</td>\n",
              "    </tr>\n",
              "    <tr>\n",
              "      <th>1</th>\n",
              "      <td>2</td>\n",
              "      <td>1</td>\n",
              "      <td>Padiglione</td>\n",
              "      <td>settlement</td>\n",
              "      <td>Republican Period</td>\n",
              "      <td>-100</td>\n",
              "      <td>-30</td>\n",
              "      <td>12.636817</td>\n",
              "      <td>41.516111</td>\n",
              "      <td>A</td>\n",
              "      <td>0.2</td>\n",
              "      <td>E</td>\n",
              "      <td>Attema et al. 2010, p. 229</td>\n",
              "      <td>15114</td>\n",
              "      <td>1</td>\n",
              "    </tr>\n",
              "    <tr>\n",
              "      <th>2</th>\n",
              "      <td>3</td>\n",
              "      <td>1</td>\n",
              "      <td>Padiglione</td>\n",
              "      <td>settlement</td>\n",
              "      <td>Imperial Period</td>\n",
              "      <td>-30</td>\n",
              "      <td>400</td>\n",
              "      <td>12.636793</td>\n",
              "      <td>41.516111</td>\n",
              "      <td>A</td>\n",
              "      <td>0.2</td>\n",
              "      <td>E</td>\n",
              "      <td>Attema et al. 2010, p. 229</td>\n",
              "      <td>15114</td>\n",
              "      <td>2</td>\n",
              "    </tr>\n",
              "    <tr>\n",
              "      <th>3</th>\n",
              "      <td>4</td>\n",
              "      <td>1</td>\n",
              "      <td>Padiglione</td>\n",
              "      <td>settlement</td>\n",
              "      <td>Late Antique/Early Medieval</td>\n",
              "      <td>400</td>\n",
              "      <td>500</td>\n",
              "      <td>12.636817</td>\n",
              "      <td>41.516111</td>\n",
              "      <td>A</td>\n",
              "      <td>0.2</td>\n",
              "      <td>E</td>\n",
              "      <td>Attema et al. 2010, p. 229</td>\n",
              "      <td>15114</td>\n",
              "      <td>3</td>\n",
              "    </tr>\n",
              "    <tr>\n",
              "      <th>4</th>\n",
              "      <td>5</td>\n",
              "      <td>2</td>\n",
              "      <td>Astura</td>\n",
              "      <td>settlement</td>\n",
              "      <td>Iron Age</td>\n",
              "      <td>-700</td>\n",
              "      <td>-600</td>\n",
              "      <td>12.769313</td>\n",
              "      <td>41.417720</td>\n",
              "      <td>A</td>\n",
              "      <td>34.0</td>\n",
              "      <td>D</td>\n",
              "      <td>Attema et al. 2010, p. 186; Picarreta 1977, p.21</td>\n",
              "      <td>11201</td>\n",
              "      <td>4</td>\n",
              "    </tr>\n",
              "  </tbody>\n",
              "</table>\n",
              "</div>"
            ],
            "text/plain": [
              "   OBJECTID  Id  ... Source_id ORIG_FID\n",
              "0         1   1  ...     15114        0\n",
              "1         2   1  ...     15114        1\n",
              "2         3   1  ...     15114        2\n",
              "3         4   1  ...     15114        3\n",
              "4         5   2  ...     11201        4\n",
              "\n",
              "[5 rows x 15 columns]"
            ]
          },
          "metadata": {
            "tags": []
          },
          "execution_count": 31
        }
      ]
    },
    {
      "cell_type": "markdown",
      "metadata": {
        "id": "kyRsKLy6AtbQ",
        "colab_type": "text"
      },
      "source": [
        "#Learning a new language – decomposing the code\n",
        "\n",
        "In #codecell_makeabasicmap-GetUrdataReady, we have a simple piece of code which allows you to open the CSV file containing the archaeological sites information. The image below will help you to understand the code better and reuse it easily.\n",
        "\n",
        "![makeabasicmap_GetUrdataReady](https://github.com/Francoz-Charlotte/Spatial_teaching_CFediting/blob/master/makeabasicmap-GetUrdataReady.jpg?raw=1)\n",
        "\n",
        "\n",
        "\n",
        "\n"
      ]
    },
    {
      "cell_type": "markdown",
      "metadata": {
        "id": "14eCo5OlnD6b",
        "colab_type": "text"
      },
      "source": [
        "# Maps should answer questions\n",
        "\n",
        "We've discussed how to come up with a good, explicitly spatial question. We've also discussed how to design a good map. Here you're going to start putting all this into practice.\n",
        "\n",
        "The data in Palmisano et al. (2018) article provides information about settlement and population patterns in central Italy and how they change over time. Where people were living and working at various times in the past is a basic archaeological question.\n",
        "\n",
        "Let's say your question is about how many iron age sites are present in the region, and what their distribution is like in space - that is where they are located and how many relatively speaking are in each area. How would you go about answering this question with a map?\n",
        "\n",
        "# Start by filtering your big dataset to get only the data you need\n",
        "\n",
        "The original data file contains over 10970 entries for all archaeological settlement in Central Italy. So you need to filter or SUBSELECT your big data file to get just the iron age sites.\n"
      ]
    },
    {
      "cell_type": "code",
      "metadata": {
        "id": "1PiNejEBmrhR",
        "colab_type": "code",
        "outputId": "aeae9d6d-eac5-4fd2-a1fd-79e34b6b2ff1",
        "colab": {
          "base_uri": "https://localhost:8080/",
          "height": 206
        }
      },
      "source": [
        "#codecell_makeabasicmap_SubSelectData\n",
        "\n",
        "#tell the notebook you only want to see stuff where the period is the iron age.\n",
        "palmisano_tuscany_sites_iron_age = palmisano_tuscany_sites[(palmisano_tuscany_sites['Period']==\"Iron Age\") ]\n",
        "\n",
        "palmisano_tuscany_sites_iron_age.head()"
      ],
      "execution_count": 32,
      "outputs": [
        {
          "output_type": "execute_result",
          "data": {
            "text/html": [
              "<div>\n",
              "<style scoped>\n",
              "    .dataframe tbody tr th:only-of-type {\n",
              "        vertical-align: middle;\n",
              "    }\n",
              "\n",
              "    .dataframe tbody tr th {\n",
              "        vertical-align: top;\n",
              "    }\n",
              "\n",
              "    .dataframe thead th {\n",
              "        text-align: right;\n",
              "    }\n",
              "</style>\n",
              "<table border=\"1\" class=\"dataframe\">\n",
              "  <thead>\n",
              "    <tr style=\"text-align: right;\">\n",
              "      <th></th>\n",
              "      <th>OBJECTID</th>\n",
              "      <th>Id</th>\n",
              "      <th>Toponyms</th>\n",
              "      <th>Type</th>\n",
              "      <th>Period</th>\n",
              "      <th>StartDate</th>\n",
              "      <th>EndDate</th>\n",
              "      <th>Longitude</th>\n",
              "      <th>Latitude</th>\n",
              "      <th>LocQual</th>\n",
              "      <th>SizeHa</th>\n",
              "      <th>SizeQual</th>\n",
              "      <th>Source</th>\n",
              "      <th>Source_id</th>\n",
              "      <th>ORIG_FID</th>\n",
              "    </tr>\n",
              "  </thead>\n",
              "  <tbody>\n",
              "    <tr>\n",
              "      <th>0</th>\n",
              "      <td>1</td>\n",
              "      <td>1</td>\n",
              "      <td>Padiglione</td>\n",
              "      <td>settlement</td>\n",
              "      <td>Iron Age</td>\n",
              "      <td>-800</td>\n",
              "      <td>-700</td>\n",
              "      <td>12.639324</td>\n",
              "      <td>41.515316</td>\n",
              "      <td>A</td>\n",
              "      <td>0.20</td>\n",
              "      <td>E</td>\n",
              "      <td>Attema et al. 2010, p. 229</td>\n",
              "      <td>15114</td>\n",
              "      <td>0</td>\n",
              "    </tr>\n",
              "    <tr>\n",
              "      <th>4</th>\n",
              "      <td>5</td>\n",
              "      <td>2</td>\n",
              "      <td>Astura</td>\n",
              "      <td>settlement</td>\n",
              "      <td>Iron Age</td>\n",
              "      <td>-700</td>\n",
              "      <td>-600</td>\n",
              "      <td>12.769313</td>\n",
              "      <td>41.417720</td>\n",
              "      <td>A</td>\n",
              "      <td>34.00</td>\n",
              "      <td>D</td>\n",
              "      <td>Attema et al. 2010, p. 186; Picarreta 1977, p.21</td>\n",
              "      <td>11201</td>\n",
              "      <td>4</td>\n",
              "    </tr>\n",
              "    <tr>\n",
              "      <th>96</th>\n",
              "      <td>97</td>\n",
              "      <td>65</td>\n",
              "      <td>Piscina della Farna</td>\n",
              "      <td>settlement</td>\n",
              "      <td>Iron Age</td>\n",
              "      <td>-700</td>\n",
              "      <td>-600</td>\n",
              "      <td>12.726173</td>\n",
              "      <td>41.482471</td>\n",
              "      <td>A</td>\n",
              "      <td>0.04</td>\n",
              "      <td>E</td>\n",
              "      <td>Attema et al. 2010</td>\n",
              "      <td>11284</td>\n",
              "      <td>96</td>\n",
              "    </tr>\n",
              "    <tr>\n",
              "      <th>104</th>\n",
              "      <td>105</td>\n",
              "      <td>70</td>\n",
              "      <td>Cadolino</td>\n",
              "      <td>settlement</td>\n",
              "      <td>Iron Age</td>\n",
              "      <td>-800</td>\n",
              "      <td>-700</td>\n",
              "      <td>12.662566</td>\n",
              "      <td>41.492596</td>\n",
              "      <td>A</td>\n",
              "      <td>1.00</td>\n",
              "      <td>E</td>\n",
              "      <td>Attema et al. 2010</td>\n",
              "      <td>15003</td>\n",
              "      <td>104</td>\n",
              "    </tr>\n",
              "    <tr>\n",
              "      <th>133</th>\n",
              "      <td>134</td>\n",
              "      <td>81</td>\n",
              "      <td>Pineta della Campana</td>\n",
              "      <td>settlement</td>\n",
              "      <td>Iron Age</td>\n",
              "      <td>-700</td>\n",
              "      <td>-600</td>\n",
              "      <td>12.670644</td>\n",
              "      <td>41.513748</td>\n",
              "      <td>A</td>\n",
              "      <td>0.08</td>\n",
              "      <td>E</td>\n",
              "      <td>Attema et al. 2010</td>\n",
              "      <td>15029</td>\n",
              "      <td>133</td>\n",
              "    </tr>\n",
              "  </tbody>\n",
              "</table>\n",
              "</div>"
            ],
            "text/plain": [
              "     OBJECTID  Id  ... Source_id ORIG_FID\n",
              "0           1   1  ...     15114        0\n",
              "4           5   2  ...     11201        4\n",
              "96         97  65  ...     11284       96\n",
              "104       105  70  ...     15003      104\n",
              "133       134  81  ...     15029      133\n",
              "\n",
              "[5 rows x 15 columns]"
            ]
          },
          "metadata": {
            "tags": []
          },
          "execution_count": 32
        }
      ]
    },
    {
      "cell_type": "markdown",
      "metadata": {
        "colab_type": "text",
        "id": "FpEzAptwEiKz"
      },
      "source": [
        "#Learning a new language – decomposing the code\n",
        "\n",
        "In the #code_makeabasicmap_SubSelectData, we have a simple piece of code which allows you to open the CSV file containing the archaeological sites information. The image below is decomposing this codeline, so you can understand how python language works and re-use it easily.  \n",
        "\n",
        "![](https://github.com/Francoz-Charlotte/Spatial_teaching_CFediting/blob/master/makeabasicmap_SubSelectData.jpg?raw=1)\n"
      ]
    },
    {
      "cell_type": "markdown",
      "metadata": {
        "id": "lTRfAfasnd1A",
        "colab_type": "text"
      },
      "source": [
        "# Put the data onto a map\n",
        "Now we want to add this data to a simple map. \n",
        "\n",
        "You need to start by getting the coordinates of all the points so you can center the map - that is focus on the area where your data is. Probably it will be a good idea to put the middle of your map roughly where the middle of your dataset is located. \n",
        "\n",
        "Think about it... if your data is in Italy, putting Antarctica as the center of your map is not going to be very effective.\n",
        "\n",
        "![Antarctica is not where the map should be](https://upload.wikimedia.org/wikipedia/commons/thumb/e/e0/Antarctica_6400px_from_Blue_Marble.jpg/310px-Antarctica_6400px_from_Blue_Marble.jpg)\n",
        "\n",
        "\n",
        "Now, you want to add a marker for each Iron Age site. A marker, recall, is a graphic icon to represent the coordinates where a site is centred. \n"
      ]
    },
    {
      "cell_type": "code",
      "metadata": {
        "id": "DhHMGaQMneNF",
        "colab_type": "code",
        "outputId": "2264d8af-834b-428e-e5e5-e6f7e5c5b82f",
        "colab": {
          "base_uri": "https://localhost:8080/",
          "height": 1000
        }
      },
      "source": [
        "#codecell_makeabasicmap_BringingUrData2theMap\n",
        "\n",
        "#location is the mean of every lat and long point to centre the map.\n",
        "location = palmisano_tuscany_sites_iron_age['Latitude'].mean(), palmisano_tuscany_sites_iron_age['Longitude'].mean()\n",
        "\n",
        "#A basemap is then created using the location to centre on and the zoom level to start.\n",
        "m = folium.Map(location=location,zoom_start=10)\n",
        "\n",
        "#Each location in the DataFrame is then added as a marker to the basemap points are then added to the map\n",
        "for i in range(0,len(palmisano_tuscany_sites_iron_age)):\n",
        "    folium.Marker([palmisano_tuscany_sites_iron_age['Latitude'].iloc[i],palmisano_tuscany_sites_iron_age['Longitude'].iloc[i]]).add_to(m)\n",
        "        \n",
        "#To display the map simply ask for the object (called 'm') representation\n",
        "m"
      ],
      "execution_count": 33,
      "outputs": [
        {
          "output_type": "execute_result",
          "data": {
            "text/html": [
              "<div style=\"width:100%;\"><div style=\"position:relative;width:100%;height:0;padding-bottom:60%;\"><iframe src=\"data:text/html;charset=utf-8;base64,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\" style=\"position:absolute;width:100%;height:100%;left:0;top:0;border:none !important;\" allowfullscreen webkitallowfullscreen mozallowfullscreen></iframe></div></div>"
            ],
            "text/plain": [
              "<folium.folium.Map at 0x7f264eb54550>"
            ]
          },
          "metadata": {
            "tags": []
          },
          "execution_count": 33
        }
      ]
    },
    {
      "cell_type": "markdown",
      "metadata": {
        "id": "9og4onHTCWr9",
        "colab_type": "text"
      },
      "source": [
        "#Learning a new language – decomposing the code\n",
        "\n",
        "The codecell_makeabasicmap_BringingUrData2theMap contains four codelines aimed to:\n",
        "\n",
        "* centre your map by calculating the mean of the latitude coordinates and mean of longitute coordinates;\n",
        "\n",
        "* zoom your map to a suitable level - e.g. world, country, region or street level;\n",
        "\n",
        "* place a marker for each arachaeological site location.\n",
        "\n",
        "* show the results interactively.\n",
        "\n",
        "\n",
        "Below are the three codelines of the script decomposed for you, so you can adapt it easily in the future.\n",
        "\n",
        "![](https://github.com/Francoz-Charlotte/Spatial_teaching_CFediting/blob/master/makeabasicmap_BringingUrData2theMap_codeline1.jpg?raw=1)\n",
        "\n",
        "Reminder: the mean or average of a set is the total sum of all numbers divided by the number of items in the set. So, for instance, the mean of latitude coordinates = sum of all latitude coordinates/ divided by the number of latitude coordinates in the dataframe.\n",
        "\n",
        "\n",
        "---\n",
        "\n",
        "\n",
        "\n",
        "![](https://github.com/Francoz-Charlotte/Spatial_teaching_CFediting/blob/master/makeabasicmap_BringingUrData2theMap_codeline2.jpg?raw=1)\n",
        "\n",
        "This codeline shows the powerful capabilities of the Folium libary you've imported at the start of this practical lab. You can find more detailed guidance about it [here](https://python-visualization.github.io/folium/).\n",
        "\n",
        "\n",
        "---\n",
        "\n",
        "\n",
        "\n",
        "![](https://github.com/Francoz-Charlotte/Spatial_teaching_CFediting/blob/master/makeabasicmap_BringingUrData2theMap_codeline3.jpg?raw=1)\n",
        "\n",
        "This codeline introduces you to two important concept in coding: the [range](https://pynative.com/python-range-function/) and the loop by using iloc command. \n",
        "Furthermore, by using range(), len() and iloc() you could implement a loop in Python for iterating rows and columns of your pandas dataframe (palminsano_tuscany_sites_iron_age).\n",
        "\n",
        "---\n",
        "\n"
      ]
    },
    {
      "cell_type": "markdown",
      "metadata": {
        "id": "xT89bOyooeE9",
        "colab_type": "text"
      },
      "source": [
        "\n",
        "# Yay! \n",
        "\n",
        "You have a map. Now, a design question: what is a good starting zoom level?\n",
        "\n",
        "Do you want your map zoomed further out or further in given the extent of your data? \n",
        "\n",
        "In the code cell above, play around with the 'zoom_start' parameter and find a good zoom level that makes you happy.\n",
        "\n",
        "\n",
        "---\n",
        "\n",
        "# You just did something new\n",
        "\n",
        "Rather than just executing code by pushing play, you've edited the code by changing a variable. \n",
        "\n",
        "Easy, right?\n",
        "\n",
        "This is where many people get started with scripting in archaeology. You find a bit of [open source code](https://opensource.com/resources/what-open-source) that seems to do what you need, and then you modify it. There's no sense in writing code from scratch when there's lots of useful open source code available that is meant to be shared and modified.\n",
        "\n"
      ]
    },
    {
      "cell_type": "markdown",
      "metadata": {
        "id": "T6kjhm_lpmEu",
        "colab_type": "text"
      },
      "source": [
        "# Representing information and relative values or quantities with graphics\n",
        "\n",
        "Now let's look at how to represent larger and smaller sites. The archaeologists in this project have a qualitative ranking of site size from large (A) to small (F). \n",
        "\n",
        "You can see the categories they've used, and that there are more small sites than larger ones. \n",
        "\n",
        "Say you want to make the two categories of sites that are the largest different colours. Why do this? Maybe larger sites have more people, so this provides insights into demographics.\n",
        "\n"
      ]
    },
    {
      "cell_type": "code",
      "metadata": {
        "id": "-x3bmE-3ov3c",
        "colab_type": "code",
        "outputId": "eaaac618-3c24-42bf-ec9e-f6cd8abb80e7",
        "colab": {
          "base_uri": "https://localhost:8080/",
          "height": 132
        }
      },
      "source": [
        "#codecell_makeabasicmap_ManipulatingyourData_ValueCounting\n",
        "\n",
        "# Size surely matters... group the sites by size category and get the number of sites in each size category.\n",
        "# SizeQual is the name of the 'attribute', or column in the table, that has information on site size. \n",
        "# An attribute is anything attached to spatial data other than the coordinates, such as period, type, size in hectare,etc. \n",
        "\n",
        "palmisano_tuscany_sites_iron_age['SizeQual'].value_counts()"
      ],
      "execution_count": 34,
      "outputs": [
        {
          "output_type": "execute_result",
          "data": {
            "text/plain": [
              "F    82\n",
              "E    80\n",
              "D    74\n",
              "B    60\n",
              "C    24\n",
              "Name: SizeQual, dtype: int64"
            ]
          },
          "metadata": {
            "tags": []
          },
          "execution_count": 34
        }
      ]
    },
    {
      "cell_type": "markdown",
      "metadata": {
        "id": "MsrofuJaS789",
        "colab_type": "text"
      },
      "source": [
        "\n",
        "\n",
        "---\n",
        "\n",
        "\n",
        "Learning a new language – decomposing the code:\n",
        "\n",
        ".value_counts() is a function that allows you to count numerical and categorical data such as numbers, objects or labels such as attributes. The results are returned as a series of numbers in descending order, so, that you can further evaluate the frequency and distribution of these values.\n",
        "\n",
        "---\n",
        "\n",
        "\n"
      ]
    },
    {
      "cell_type": "markdown",
      "metadata": {
        "id": "mwFZ8ugBIud3",
        "colab_type": "text"
      },
      "source": [
        "In the step above, #codecell_makeabasicmap_SubSelectData, you've set up your new dataset by filtering the iron age settlements from the original dataset. It's what we would call a 'subset' of your original data.\n",
        "\n",
        "Now you are ready to make a new map."
      ]
    },
    {
      "cell_type": "code",
      "metadata": {
        "id": "_vu_cUOzp77n",
        "colab_type": "code",
        "colab": {}
      },
      "source": [
        "#codecell_makeabasicmap_ManipulatingyourData_UsingSymbology\n",
        "\n",
        "#now make a map just like you did before. Note that this time we're adding a scale bar with 'control_scale'\n",
        "location = palmisano_tuscany_sites_iron_age['Latitude'].mean(), palmisano_tuscany_sites_iron_age['Longitude'].mean()\n",
        "m = folium.Map(location=location,zoom_start=10,control_scale = True)\n",
        "\n",
        "#Assign different colours to the two large site categories - B and C in this case\n",
        "for i in range(0,len(palmisano_tuscany_sites_iron_age)):\n",
        "\n",
        "\n",
        "    site_size = palmisano_tuscany_sites_iron_age['SizeQual'].iloc[i]\n",
        "    if site_size == 'C':\n",
        "        color = 'blue'\n",
        "    elif site_size == 'B':\n",
        "        color = 'green'\n",
        "    else:\n",
        "        color = 'red'\n",
        "    \n",
        "# add the markers to the map, using the locations and colours    \n",
        "    folium.Marker([palmisano_tuscany_sites_iron_age['Latitude'].iloc[i],palmisano_tuscany_sites_iron_age['Longitude'].iloc[i]],icon=folium.Icon(color=color)).add_to(m)\n",
        "\n",
        "#type 'm' for map (the variable you set above) to tell the notebook to display your map\n",
        "m"
      ],
      "execution_count": 0,
      "outputs": []
    },
    {
      "cell_type": "markdown",
      "metadata": {
        "id": "yUZmFVuyJ9tN",
        "colab_type": "text"
      },
      "source": [
        "#Learning a new language – decomposing the code\n",
        "for #codecell_makeabasicmap_ManipulatingyourData_UsingSymbology\n",
        "\n",
        "![](https://github.com/Francoz-Charlotte/Spatial_teaching_CFediting/blob/master/makeabasicmap_ManipulatingyourData_UsingSymbology_.jpg?raw=1) \n",
        "\n",
        "\n",
        "\n",
        "\n",
        "\n",
        "---\n",
        "\n",
        "\n",
        "* Note: You can easily change icon style  and find more in this [list](https://fontawesome.com/icons?d=gallery). \n",
        "\n",
        "\n",
        "\n"
      ]
    },
    {
      "cell_type": "markdown",
      "metadata": {
        "id": "VjuGVxl8rKue",
        "colab_type": "text"
      },
      "source": [
        "# Designing your map - Symbology\n",
        "\n",
        "Now, go back into #codecell_makeabasicmap_ManipulatingyourData_UsingSymbology and experiment a bit. Try out some different colours. Do certain combinations work well? Try adding different colours for each of the smaller categories of sites. Does that make the map clearer or more confusing?"
      ]
    },
    {
      "cell_type": "markdown",
      "metadata": {
        "id": "ZcN5jSj13Ive",
        "colab_type": "text"
      },
      "source": [
        "## What symbol scheme is best for your map?\n",
        "\n",
        "Maybe it makes more sense to show size by changing the size of the icon than the colour. Let's make another map that varies the size of the icon for each site based on its size in hectares. "
      ]
    },
    {
      "cell_type": "code",
      "metadata": {
        "id": "8d_u8uL5wKBg",
        "colab_type": "code",
        "colab": {}
      },
      "source": [
        "#codecell_makeabasicmap_ManipulatingyourData_UsingSymbologyExperimenting\n",
        "\n",
        "#now make a map just like you did before. \n",
        "location = palmisano_tuscany_sites_iron_age['Latitude'].mean(), palmisano_tuscany_sites_iron_age['Longitude'].mean()\n",
        "m = folium.Map(location=location,zoom_start=8,control_scale = True)\n",
        "\n",
        "\n",
        "# Set the size for each circle icon by defining the 'radius' which is the radius of the circle\n",
        "# Here we are multiplying the size in hectares (the SizeHa attribute) by 15. Try different values here to get icons a size you like\n",
        "for i in range(0,len(palmisano_tuscany_sites_iron_age)):\n",
        "   folium.Circle(\n",
        "      location=[palmisano_tuscany_sites_iron_age['Latitude'].iloc[i],palmisano_tuscany_sites_iron_age['Longitude'].iloc[i]],\n",
        "      popup=palmisano_tuscany_sites_iron_age.iloc[i]['Toponyms'],\n",
        "      radius=palmisano_tuscany_sites_iron_age.iloc[i]['SizeHa']*15, #this is where we set the value of 15 - change this variable to get differrent size icons\n",
        "      color='crimson',\n",
        "      fill=True,\n",
        "      fill_color='crimson'\n",
        "   ).add_to(m)\n",
        "    \n",
        "#type 'm' for map (the variable you set above) to tell the notebook to display your map\n",
        "m"
      ],
      "execution_count": 0,
      "outputs": []
    },
    {
      "cell_type": "markdown",
      "metadata": {
        "id": "0lgx9Jyg9FAz",
        "colab_type": "text"
      },
      "source": [
        "#Learning a new language – decomposing the code\n",
        "\n",
        "for #codecell_makeabasicmap_ManipulatingyourData_UsingSymbologyExperimenting\n",
        "\n",
        "![](https://github.com/Francoz-Charlotte/Spatial_teaching_CFediting/blob/master/makeabasicmap_ManipulatingyourData_UsingSymbologyExperimenting.jpg?raw=1)"
      ]
    },
    {
      "cell_type": "markdown",
      "metadata": {
        "id": "UGrxvlO1sn1m",
        "colab_type": "text"
      },
      "source": [
        "# thinking about spatial density or 'clustering' or conceptration\n",
        "\n",
        "**Research question** Now what if you want to make a map that shows the concentration of sites in the iron age, that is areas with more and fewer sites? \n",
        "\n",
        "\n",
        "This kind of map is often called a 'heatmap'. Essentially it shows areas with more sites as 'hotter' (generally red in colour) and areas with fewer sites as cooler.In this kind of map surely larger sites should count more - we call this 'weighting'. The general idea is that a site that is twice as large should count for twice as much in our heatmap.\n",
        "\n",
        "This is in essence spatial analysis which is a type of geographical analysis aiming to explain patterns (archaeological settlements) and its spatial expression in terms of mathematics and geometry, that is, locational analysis. When some features are more important than others, you can use the Weight Field to reflect those feature differences. \n",
        "\n",
        "![](https://github.com/Francoz-Charlotte/Spatial_teaching_CFediting/blob/master/SpatialAnalysis_Weighted.jpg?raw=1)\n",
        "\n",
        "Adapted from (https://pro.arcgis.com/en/pro-app/tool-reference/spatial-statistics/using-weights.htm)\n"
      ]
    },
    {
      "cell_type": "code",
      "metadata": {
        "id": "dMDhTabesLOc",
        "colab_type": "code",
        "colab": {}
      },
      "source": [
        "#codecell_makeabasicmap_ManipulatingyourData_Heatmap\n",
        "\n",
        "#first make a list of the coordinates of each site and its size in hectares, which we will use for the size-based weighting\n",
        "data_heat = palmisano_tuscany_sites_iron_age[['Latitude','Longitude','SizeHa']].values.tolist()"
      ],
      "execution_count": 0,
      "outputs": []
    },
    {
      "cell_type": "code",
      "metadata": {
        "id": "pzzi69aXtyMN",
        "colab_type": "code",
        "colab": {}
      },
      "source": [
        "#look at the first line of your list to check it seems to have worked\n",
        "data_heat[0]"
      ],
      "execution_count": 0,
      "outputs": []
    },
    {
      "cell_type": "code",
      "metadata": {
        "id": "TVAorbp9uKIS",
        "colab_type": "code",
        "colab": {}
      },
      "source": [
        "#to make the heatmap, we need to get an extra tool, so...\n",
        "import folium.plugins as plugins\n",
        "\n"
      ],
      "execution_count": 0,
      "outputs": []
    },
    {
      "cell_type": "code",
      "metadata": {
        "id": "ZIe4sfeVuM80",
        "colab_type": "code",
        "colab": {}
      },
      "source": [
        "# now make a map a bit like you did before, set your zoom level and your centre location. Then use the plugin to make the heatmap. \n",
        "\n",
        "m = folium.Map(location=location, zoom_start=10)\n",
        "\n",
        "#tiles='stamentoner'\n",
        "\n",
        "plugins.HeatMap(data_heat).add_to(m)\n",
        "\n",
        "#type 'm' for map (the variable you set above) to tell the notebook to display your map\n",
        "m"
      ],
      "execution_count": 0,
      "outputs": []
    },
    {
      "cell_type": "markdown",
      "metadata": {
        "id": "5e19_h8BFXjE",
        "colab_type": "text"
      },
      "source": [
        "#Learning a new language – decomposing the code\n",
        "\n",
        "for #codecell_makeabasicmap_ManipulatingyourData_Heatmap\n",
        "\n",
        "\n",
        "![](https://github.com/Francoz-Charlotte/Spatial_teaching_CFediting/blob/master/makeabasicmap_ManipulatingyourData_Heatmap.jpg?raw=1)\n",
        "\n",
        "\n",
        "---\n",
        "\n",
        "\n",
        "\n",
        "For further documentation on folium plugins follow [link](https://python-visualization.github.io/folium/plugins.html)."
      ]
    },
    {
      "cell_type": "markdown",
      "metadata": {
        "id": "rRVg43qE5Y_Z",
        "colab_type": "text"
      },
      "source": [
        "# Success!\n",
        "\n",
        "You should have a heatmap showing the concentrations of Iron Age sites in the region.\n",
        "\n",
        "You could repeat the exercise with sites from any period in which you are interested.\n",
        "\n",
        "Hopefully you've learned to make some basic maps and are starting to understand how to put into practice some of the theory of map design and spatial visualisation we've been discussing.\n",
        "\n",
        "That's it for today... Remember to save your notebook (under a new name) so you can come back to it and practice making basic static maps. \n",
        "\n"
      ]
    },
    {
      "cell_type": "markdown",
      "metadata": {
        "id": "H4FKa3tQHVsi",
        "colab_type": "text"
      },
      "source": [
        "#LexiCode\n",
        "In this practical you have learned new commands that you can now reuse for your own datasets:\n",
        "*\t==  , () []\n",
        "*\t.head_csv()\n",
        "*\t.read_csv()\n",
        "*\tmean()\n",
        "*\tfolium.Map\n",
        "*\trange()\n",
        "*\tlen()\n",
        "*\tiloc[]\n",
        "*\t.value_counts()\n",
        "*\tif =:\n",
        "*\telif =:\n",
        "*\telse =:\n",
        "*\tfolium.Marker()\n",
        "*\tfolium.Icon()\n",
        "*\tfolium.Circle\n",
        "*\tpopup=\n",
        "*\tradius=\n",
        "*\t.values.tolist()\n",
        "*\tplugins.HeatMap()\n"
      ]
    }
  ]
}