{
  "nbformat": 4,
  "nbformat_minor": 0,
  "metadata": {
    "colab": {
      "name": "1_MakeABasicMap.ipynb",
      "provenance": [],
      "collapsed_sections": [],
      "include_colab_link": true
    },
    "kernelspec": {
      "name": "python3",
      "display_name": "Python 3"
    }
  },
  "cells": [
    {
      "cell_type": "markdown",
      "metadata": {
        "id": "view-in-github",
        "colab_type": "text"
      },
      "source": [
        "<a href=\"https://colab.research.google.com/github/Francoz-Charlotte/Spatial_teaching_CFediting/blob/master/1_MakeABasicMap_CFediting.ipynb\" target=\"_parent\"><img src=\"https://colab.research.google.com/assets/colab-badge.svg\" alt=\"Open In Colab\"/></a>"
      ]
    },
    {
      "cell_type": "markdown",
      "metadata": {
        "id": "dfXStwLAk9GC",
        "colab_type": "text"
      },
      "source": [
        "# Getting Started\n",
        "\n",
        "First things first, if you haven't already done so: You need your own copy of this notebook.Once in Colab,go to \"File\" and  'save a copy in github' (give access if needed.... put it into the repository you made for this course).\n",
        "\n",
        "Now you have your own copy of the notebook. Click 'open in colab' to get started working on the practical exercise. \n",
        "\n",
        "* Recap:    \n",
        " * [GitHub](https://github.com/) is widely known as one of the most famous version control repositories. This is where these notebooks practicals will be saved and accessed publicly.\n",
        " * [Colab](https://colab.research.google.com) is working platform enabling the creation of machine learning model or in other word the application of artificial intelligence (AI) that provides systems the ability to automatically learn and improve from experience without being explicitly programmed. Colab platform is provided by Google and allow Jupyter notebook environment to be populated where you can use free GPUs (Graphics Processing Unit just like a plug-in within to renders images, animations and video for instance) and TPUs (Tensor Processing Unit).\n",
        " * [Jupyter notebook](https://jupyter.org) are web applications that you will be used for the next practical classes which ease the creation and sharing of documents containing live code. You can explore a [gallery](https://github.com/jupyter/jupyter/wiki/A-gallery-of-interesting-Jupyter-Notebooks) of interesting Jupyter notebooks and read why Jupyter is ‘data scientists’ computational notebook of choice ([i](https://www.nature.com/news/interactive-notebooks-sharing-the-code-1.16261)and [ii](https://www.nature.com/articles/d41586-018-07196-1)).\n",
        " \n",
        "\n",
        "\n",
        "---\n",
        "\n",
        "\n",
        "# What's a notebook and how does it work?\n",
        "The layout of these notebooks is simplified compared to most web application ‘architecture’ and have two types of cells: \n",
        "\n",
        "* Text cells which are explanatory and that I will be using - a lot- to explain things to you.  These cells can be easily edited in a language called  [Markdown](https://jupyter-notebook.readthedocs.io/en/stable/examples/Notebook/Working%20With%20Markdown%20Cells.html).\n",
        "\n",
        "* Code cells which we will use to do things. They  are executable code, mostly written in programming [language](https://jupyter-notebook.readthedocs.io/en/stable/examples/Notebook/Running%20Code.html#Code-cells-allow-you-to-enter-and-run-code). These code cells are commonly using a language called [python](https://www.python.org/) or [R](https://www.r-project.org/)). In this course we'll mostly be using python. As you know, stereotypically archaeologists hate snakes. Python is the exception to this. \n",
        "\n",
        "You can add text or code cells to your version of the notebook. To make things happen in a code cell you can click on the cell and then type 'ctrl + enter' or push the play button that will appear on the left.\n",
        "\n",
        "\n",
        "\n",
        "---\n",
        "\n",
        " \n"
      ]
    },
    {
      "cell_type": "markdown",
      "metadata": {
        "id": "vVM1mmNj6SWE",
        "colab_type": "text"
      },
      "source": [
        "\n",
        "# What we are doing\n",
        "In this practical exercise, you will make some basic maps. You're making them in something called a notebook. To get started, we will get the tools we need. These tools are from open source library from Python that allows powerful data visualisation. This is in fact the first bit of python code you are using! \n",
        "\n",
        "We will always start a practical exercise in a notebook  like this."
      ]
    },
    {
      "cell_type": "code",
      "metadata": {
        "id": "ws-jEcyKk0MF",
        "colab_type": "code",
        "outputId": "ecdc6082-ee06-4df0-dbe4-1dacd13599c4",
        "colab": {
          "base_uri": "https://localhost:8080/",
          "height": 53
        }
      },
      "source": [
        "import folium\n",
        "import branca\n",
        "import pandas as pd\n",
        "print(folium.__file__)\n",
        "print(folium.__version__)"
      ],
      "execution_count": 0,
      "outputs": [
        {
          "output_type": "stream",
          "text": [
            "/usr/local/lib/python3.6/dist-packages/folium/__init__.py\n",
            "0.8.3\n"
          ],
          "name": "stdout"
        }
      ]
    },
    {
      "cell_type": "markdown",
      "metadata": {
        "id": "ZnRemIE7mUQK",
        "colab_type": "text"
      },
      "source": [
        "# To make a map we need to get some data. \n",
        "This data must be explicitly spatial - that is have spatial coordinates that tell us about locations in a way that machines can understand. \n",
        "\n",
        "Spatial coordinates are pairs of numbers organised on a x-horizontal and y-vertical axis – this is the bit of geometry you will be using the most as an archaeologist! Coordinates (x,y) can be called eastings or northings or latitude and longitudes depending on the type projection used to transform the map (refer to your First Course Meeting notes). The most common coordinate format for maps on the internet are [latitude and longitude coordinates](https://www.latlong.net/). \n",
        "\n",
        "\n",
        "In this notebook, we'll experiment with the spatial data from:\n",
        "\n",
        " Palmisano, A., Bevan, A. and Shennan, S., 2018. Regional Demographic Trends and Settlement Patterns in Central Italy: Archaeological Sites and Radiocarbon Dates. **Journal of Open Archaeology Data**, 6(1), p.2. DOI: [http://doi.org/10.5334/joad.43](http://doi.org/10.5334/joad.43)\n",
        " \n",
        " (Which you should have read about before class!)\n",
        " \n",
        "\n",
        "---\n",
        "\n",
        "\n",
        "These nice people provided the data behind their analysis so we can re-use it. I converted their old school shapefile to a CSV for you to make things easier. If you ever have to do this yourself, there are lots of online converters like [this one](https://mygeodata.cloud/converter/shp-to-csv). \n",
        "\n",
        "Later in the course, you will also learn to read data from shapefiles directly into your notebook. This is a little more complicated, so we are skipping it for now.\n",
        "\n",
        "* Reminder: \n",
        "a shapefile is a vector data storage file format that can be used in spatial software such as [Q-GIS](https://www.qgis.org/en/site/) (refer to your First Course Meeting notes). A CSV file is simple tabular file format using commas or space to distinguish elements within it.\n"
      ]
    },
    {
      "cell_type": "code",
      "metadata": {
        "id": "F0B_wkOblGUW",
        "colab_type": "code",
        "outputId": "3ea5e9b5-3e49-4734-c6e5-495adb156ee9",
        "colab": {
          "base_uri": "https://localhost:8080/",
          "height": 539
        }
      },
      "source": [
        "#Get the data by reading it into the notebook\n",
        "palmisano_tuscany_sites = pd.read_csv(\"https://raw.githubusercontent.com/ropitz/spatialarchaeology/master/data/site_centriods_tuscany.txt\")\n",
        "\n",
        "palmisano_tuscany_sites.head()"
      ],
      "execution_count": 0,
      "outputs": [
        {
          "output_type": "execute_result",
          "data": {
            "text/html": [
              "<div>\n",
              "<style scoped>\n",
              "    .dataframe tbody tr th:only-of-type {\n",
              "        vertical-align: middle;\n",
              "    }\n",
              "\n",
              "    .dataframe tbody tr th {\n",
              "        vertical-align: top;\n",
              "    }\n",
              "\n",
              "    .dataframe thead th {\n",
              "        text-align: right;\n",
              "    }\n",
              "</style>\n",
              "<table border=\"1\" class=\"dataframe\">\n",
              "  <thead>\n",
              "    <tr style=\"text-align: right;\">\n",
              "      <th></th>\n",
              "      <th>OBJECTID</th>\n",
              "      <th>Id</th>\n",
              "      <th>Toponyms</th>\n",
              "      <th>Type</th>\n",
              "      <th>Period</th>\n",
              "      <th>StartDate</th>\n",
              "      <th>EndDate</th>\n",
              "      <th>Longitude</th>\n",
              "      <th>Latitude</th>\n",
              "      <th>LocQual</th>\n",
              "      <th>SizeHa</th>\n",
              "      <th>SizeQual</th>\n",
              "      <th>Source</th>\n",
              "      <th>Source_id</th>\n",
              "      <th>ORIG_FID</th>\n",
              "    </tr>\n",
              "  </thead>\n",
              "  <tbody>\n",
              "    <tr>\n",
              "      <th>0</th>\n",
              "      <td>1</td>\n",
              "      <td>1</td>\n",
              "      <td>Padiglione</td>\n",
              "      <td>settlement</td>\n",
              "      <td>Iron Age</td>\n",
              "      <td>-800</td>\n",
              "      <td>-700</td>\n",
              "      <td>12.639324</td>\n",
              "      <td>41.515316</td>\n",
              "      <td>A</td>\n",
              "      <td>0.2</td>\n",
              "      <td>E</td>\n",
              "      <td>Attema et al. 2010, p. 229</td>\n",
              "      <td>15114</td>\n",
              "      <td>0</td>\n",
              "    </tr>\n",
              "    <tr>\n",
              "      <th>1</th>\n",
              "      <td>2</td>\n",
              "      <td>1</td>\n",
              "      <td>Padiglione</td>\n",
              "      <td>settlement</td>\n",
              "      <td>Republican Period</td>\n",
              "      <td>-100</td>\n",
              "      <td>-30</td>\n",
              "      <td>12.636817</td>\n",
              "      <td>41.516111</td>\n",
              "      <td>A</td>\n",
              "      <td>0.2</td>\n",
              "      <td>E</td>\n",
              "      <td>Attema et al. 2010, p. 229</td>\n",
              "      <td>15114</td>\n",
              "      <td>1</td>\n",
              "    </tr>\n",
              "    <tr>\n",
              "      <th>2</th>\n",
              "      <td>3</td>\n",
              "      <td>1</td>\n",
              "      <td>Padiglione</td>\n",
              "      <td>settlement</td>\n",
              "      <td>Imperial Period</td>\n",
              "      <td>-30</td>\n",
              "      <td>400</td>\n",
              "      <td>12.636793</td>\n",
              "      <td>41.516111</td>\n",
              "      <td>A</td>\n",
              "      <td>0.2</td>\n",
              "      <td>E</td>\n",
              "      <td>Attema et al. 2010, p. 229</td>\n",
              "      <td>15114</td>\n",
              "      <td>2</td>\n",
              "    </tr>\n",
              "    <tr>\n",
              "      <th>3</th>\n",
              "      <td>4</td>\n",
              "      <td>1</td>\n",
              "      <td>Padiglione</td>\n",
              "      <td>settlement</td>\n",
              "      <td>Late Antique/Early Medieval</td>\n",
              "      <td>400</td>\n",
              "      <td>500</td>\n",
              "      <td>12.636817</td>\n",
              "      <td>41.516111</td>\n",
              "      <td>A</td>\n",
              "      <td>0.2</td>\n",
              "      <td>E</td>\n",
              "      <td>Attema et al. 2010, p. 229</td>\n",
              "      <td>15114</td>\n",
              "      <td>3</td>\n",
              "    </tr>\n",
              "    <tr>\n",
              "      <th>4</th>\n",
              "      <td>5</td>\n",
              "      <td>2</td>\n",
              "      <td>Astura</td>\n",
              "      <td>settlement</td>\n",
              "      <td>Iron Age</td>\n",
              "      <td>-700</td>\n",
              "      <td>-600</td>\n",
              "      <td>12.769313</td>\n",
              "      <td>41.417720</td>\n",
              "      <td>A</td>\n",
              "      <td>34.0</td>\n",
              "      <td>D</td>\n",
              "      <td>Attema et al. 2010, p. 186; Picarreta 1977, p.21</td>\n",
              "      <td>11201</td>\n",
              "      <td>4</td>\n",
              "    </tr>\n",
              "  </tbody>\n",
              "</table>\n",
              "</div>"
            ],
            "text/plain": [
              "   OBJECTID  Id  ... Source_id ORIG_FID\n",
              "0         1   1  ...     15114        0\n",
              "1         2   1  ...     15114        1\n",
              "2         3   1  ...     15114        2\n",
              "3         4   1  ...     15114        3\n",
              "4         5   2  ...     11201        4\n",
              "\n",
              "[5 rows x 15 columns]"
            ]
          },
          "metadata": {
            "tags": []
          },
          "execution_count": 2
        }
      ]
    },
    {
      "cell_type": "markdown",
      "metadata": {
        "id": "kyRsKLy6AtbQ",
        "colab_type": "text"
      },
      "source": [
        "#learning a new language – decomposing the code\n",
        "\n",
        "in the code cell 2 above, we have a simple piece of code which allows you to open the CSV file containing the Archaeological Sites information. \n",
        "\n",
        "![alt text](https://)"
      ]
    },
    {
      "cell_type": "markdown",
      "metadata": {
        "id": "14eCo5OlnD6b",
        "colab_type": "text"
      },
      "source": [
        "# Maps should answer questions\n",
        "\n",
        "We've discussed how to come up with a good, explicitly spatial question. We've also discussed how to design a good map. Here you're going to start putting all this into practice.\n",
        "\n",
        "The data in this article provides information about settlement and population patterns in central Italy and how they change over time. Where people were living and working at various times in the past is a basic archaeological question.\n",
        "\n",
        "Let's say your question is about how many iron age sites are present in the region, and what their distribution is like in space - that is where they are located and how many relatively speaking are in each area. How would you go about answering this question with a map?\n",
        "\n",
        "# Start by filtering your big dataset to get only the data you need\n",
        "\n",
        "Filter your big data file to get just the iron age sites.\n"
      ]
    },
    {
      "cell_type": "code",
      "metadata": {
        "id": "1PiNejEBmrhR",
        "colab_type": "code",
        "outputId": "27b68e48-46f3-43c8-be53-e439959df6b5",
        "colab": {
          "base_uri": "https://localhost:8080/",
          "height": 487
        }
      },
      "source": [
        "#tell the notebook you only want to see stuff where the period is the iron age.\n",
        "palmisano_tuscany_sites_iron_age = palmisano_tuscany_sites[(palmisano_tuscany_sites['Period']==\"Iron Age\") ]\n",
        "\n",
        "palmisano_tuscany_sites_iron_age.head()"
      ],
      "execution_count": 0,
      "outputs": [
        {
          "output_type": "execute_result",
          "data": {
            "text/html": [
              "<div>\n",
              "<style scoped>\n",
              "    .dataframe tbody tr th:only-of-type {\n",
              "        vertical-align: middle;\n",
              "    }\n",
              "\n",
              "    .dataframe tbody tr th {\n",
              "        vertical-align: top;\n",
              "    }\n",
              "\n",
              "    .dataframe thead th {\n",
              "        text-align: right;\n",
              "    }\n",
              "</style>\n",
              "<table border=\"1\" class=\"dataframe\">\n",
              "  <thead>\n",
              "    <tr style=\"text-align: right;\">\n",
              "      <th></th>\n",
              "      <th>OBJECTID</th>\n",
              "      <th>Id</th>\n",
              "      <th>Toponyms</th>\n",
              "      <th>Type</th>\n",
              "      <th>Period</th>\n",
              "      <th>StartDate</th>\n",
              "      <th>EndDate</th>\n",
              "      <th>Longitude</th>\n",
              "      <th>Latitude</th>\n",
              "      <th>LocQual</th>\n",
              "      <th>SizeHa</th>\n",
              "      <th>SizeQual</th>\n",
              "      <th>Source</th>\n",
              "      <th>Source_id</th>\n",
              "      <th>ORIG_FID</th>\n",
              "    </tr>\n",
              "  </thead>\n",
              "  <tbody>\n",
              "    <tr>\n",
              "      <th>0</th>\n",
              "      <td>1</td>\n",
              "      <td>1</td>\n",
              "      <td>Padiglione</td>\n",
              "      <td>settlement</td>\n",
              "      <td>Iron Age</td>\n",
              "      <td>-800</td>\n",
              "      <td>-700</td>\n",
              "      <td>12.639324</td>\n",
              "      <td>41.515316</td>\n",
              "      <td>A</td>\n",
              "      <td>0.20</td>\n",
              "      <td>E</td>\n",
              "      <td>Attema et al. 2010, p. 229</td>\n",
              "      <td>15114</td>\n",
              "      <td>0</td>\n",
              "    </tr>\n",
              "    <tr>\n",
              "      <th>4</th>\n",
              "      <td>5</td>\n",
              "      <td>2</td>\n",
              "      <td>Astura</td>\n",
              "      <td>settlement</td>\n",
              "      <td>Iron Age</td>\n",
              "      <td>-700</td>\n",
              "      <td>-600</td>\n",
              "      <td>12.769313</td>\n",
              "      <td>41.417720</td>\n",
              "      <td>A</td>\n",
              "      <td>34.00</td>\n",
              "      <td>D</td>\n",
              "      <td>Attema et al. 2010, p. 186; Picarreta 1977, p.21</td>\n",
              "      <td>11201</td>\n",
              "      <td>4</td>\n",
              "    </tr>\n",
              "    <tr>\n",
              "      <th>96</th>\n",
              "      <td>97</td>\n",
              "      <td>65</td>\n",
              "      <td>Piscina della Farna</td>\n",
              "      <td>settlement</td>\n",
              "      <td>Iron Age</td>\n",
              "      <td>-700</td>\n",
              "      <td>-600</td>\n",
              "      <td>12.726173</td>\n",
              "      <td>41.482471</td>\n",
              "      <td>A</td>\n",
              "      <td>0.04</td>\n",
              "      <td>E</td>\n",
              "      <td>Attema et al. 2010</td>\n",
              "      <td>11284</td>\n",
              "      <td>96</td>\n",
              "    </tr>\n",
              "    <tr>\n",
              "      <th>104</th>\n",
              "      <td>105</td>\n",
              "      <td>70</td>\n",
              "      <td>Cadolino</td>\n",
              "      <td>settlement</td>\n",
              "      <td>Iron Age</td>\n",
              "      <td>-800</td>\n",
              "      <td>-700</td>\n",
              "      <td>12.662566</td>\n",
              "      <td>41.492596</td>\n",
              "      <td>A</td>\n",
              "      <td>1.00</td>\n",
              "      <td>E</td>\n",
              "      <td>Attema et al. 2010</td>\n",
              "      <td>15003</td>\n",
              "      <td>104</td>\n",
              "    </tr>\n",
              "    <tr>\n",
              "      <th>133</th>\n",
              "      <td>134</td>\n",
              "      <td>81</td>\n",
              "      <td>Pineta della Campana</td>\n",
              "      <td>settlement</td>\n",
              "      <td>Iron Age</td>\n",
              "      <td>-700</td>\n",
              "      <td>-600</td>\n",
              "      <td>12.670644</td>\n",
              "      <td>41.513748</td>\n",
              "      <td>A</td>\n",
              "      <td>0.08</td>\n",
              "      <td>E</td>\n",
              "      <td>Attema et al. 2010</td>\n",
              "      <td>15029</td>\n",
              "      <td>133</td>\n",
              "    </tr>\n",
              "  </tbody>\n",
              "</table>\n",
              "</div>"
            ],
            "text/plain": [
              "     OBJECTID  Id  ... Source_id ORIG_FID\n",
              "0           1   1  ...     15114        0\n",
              "4           5   2  ...     11201        4\n",
              "96         97  65  ...     11284       96\n",
              "104       105  70  ...     15003      104\n",
              "133       134  81  ...     15029      133\n",
              "\n",
              "[5 rows x 15 columns]"
            ]
          },
          "metadata": {
            "tags": []
          },
          "execution_count": 3
        }
      ]
    },
    {
      "cell_type": "markdown",
      "metadata": {
        "id": "lTRfAfasnd1A",
        "colab_type": "text"
      },
      "source": [
        "# Put the data onto a map\n",
        "Now we want to add this data to a simple map. \n",
        "\n",
        "You need to start by getting the coordiantes of all the points so you can center the map - that is focus on the area where your data is. Probably it will be a good idea to put the middle of your map roughly where the middle of your dataset is located. \n",
        "\n",
        "Think about it... if your data is in Italy, putting Antarctica in the middle of your map is not going to be very effective.\n",
        "\n",
        "![Antarctica is not where the map should be](https://upload.wikimedia.org/wikipedia/commons/thumb/e/e0/Antarctica_6400px_from_Blue_Marble.jpg/310px-Antarctica_6400px_from_Blue_Marble.jpg)\n",
        "\n",
        "\n",
        "You want to add a marker for each site. A marker, recall, is a graphic icon to represent the coordinates where a site is centred.\n",
        "\n"
      ]
    },
    {
      "cell_type": "code",
      "metadata": {
        "id": "DhHMGaQMneNF",
        "colab_type": "code",
        "colab": {}
      },
      "source": [
        "#location is the mean of every lat and long point to centre the map.\n",
        "location = palmisano_tuscany_sites_iron_age['Latitude'].mean(), palmisano_tuscany_sites_iron_age['Longitude'].mean()\n",
        "\n",
        "#A basemap is then created using the location to centre on and the zoom level to start.\n",
        "m = folium.Map(location=location,zoom_start=10)\n",
        "\n",
        "#Each location in the DataFrame is then added as a marker to the basemap points are then added to the map\n",
        "for i in range(0,len(palmisano_tuscany_sites_iron_age)):\n",
        "    folium.Marker([palmisano_tuscany_sites_iron_age['Latitude'].iloc[i],palmisano_tuscany_sites_iron_age['Longitude'].iloc[i]]).add_to(m)\n",
        "        \n",
        "m"
      ],
      "execution_count": 0,
      "outputs": []
    },
    {
      "cell_type": "markdown",
      "metadata": {
        "id": "xT89bOyooeE9",
        "colab_type": "text"
      },
      "source": [
        "\n",
        "# Yay! \n",
        "\n",
        "You have a map. Now, a design question: what is a good starting zoom level?\n",
        "\n",
        "Do you want your map zoomed further out or further in given the extent of your data? In the code cell above, play around with the 'zoom_start' parameter and find a good zoom level that makes you happy.\n",
        "\n",
        "\n",
        "---\n",
        "\n",
        "# You just did something new\n",
        "\n",
        "Rather than just executing code by pushing play, you've edited the code by changing a variable. \n",
        "\n",
        "Easy, right?\n",
        "\n",
        "This is where many people get started with scripting in archaeology. You find a bit of [open source code](https://opensource.com/resources/what-open-source) that seems to do what you need, and then you modify it. There's no sense in writing code from scratch when there's lots of useful open source code available that is meant to be shared and modified.\n",
        "\n"
      ]
    },
    {
      "cell_type": "markdown",
      "metadata": {
        "id": "T6kjhm_lpmEu",
        "colab_type": "text"
      },
      "source": [
        "# Representing information and relative values or quantities with graphics\n",
        "\n",
        "Now let's look at how to represent larger and smaller sites. The archaeologists in this project have a qualitative ranking of site size from large (A) to small (F). \n",
        "\n",
        "You can see the categories they've used, and that there are more small sites than larger ones. \n",
        "\n",
        "Say you want to make the two categories of sites that are the largest different colours. Why do this? Maybe larger sites have more people, so this provides insights into demographics.\n",
        "\n"
      ]
    },
    {
      "cell_type": "code",
      "metadata": {
        "id": "-x3bmE-3ov3c",
        "colab_type": "code",
        "colab": {}
      },
      "source": [
        "#Size surely matters... group the sites by size category and get the number of sites in each size category. \n",
        "\n",
        "# SizeQual is the name of the 'attribute', or column in the table, that has information on site size. \n",
        "# An attribute is anything attached to spatial data other than the coordinates\n",
        "\n",
        "palmisano_tuscany_sites_iron_age['SizeQual'].value_counts()"
      ],
      "execution_count": 0,
      "outputs": []
    },
    {
      "cell_type": "markdown",
      "metadata": {
        "id": "mwFZ8ugBIud3",
        "colab_type": "text"
      },
      "source": [
        "In the step above, you've set up your new dataset. It's what we would call a 'subset' of your original data.\n",
        "\n",
        "Now you are ready to make a new map."
      ]
    },
    {
      "cell_type": "code",
      "metadata": {
        "id": "_vu_cUOzp77n",
        "colab_type": "code",
        "colab": {}
      },
      "source": [
        "#now make a map just like you did before. Note that this time we're adding a scale bar with 'control_scale'\n",
        "location = palmisano_tuscany_sites_iron_age['Latitude'].mean(), palmisano_tuscany_sites_iron_age['Longitude'].mean()\n",
        "m = folium.Map(location=location,zoom_start=10,control_scale = True)\n",
        "\n",
        "#Assign different colours to the two large site categories - B and C in this case\n",
        "for i in range(0,len(palmisano_tuscany_sites_iron_age)):\n",
        "\n",
        "\n",
        "    site_size = palmisano_tuscany_sites_iron_age['SizeQual'].iloc[i]\n",
        "    if site_size == 'C':\n",
        "        color = 'blue'\n",
        "    elif site_size == 'B':\n",
        "        color = 'green'\n",
        "    else:\n",
        "        color = 'red'\n",
        "    \n",
        "# add the markers to the map, using the locations and colours    \n",
        "    folium.Marker([palmisano_tuscany_sites_iron_age['Latitude'].iloc[i],palmisano_tuscany_sites_iron_age['Longitude'].iloc[i]],icon=folium.Icon(color=color)).add_to(m)\n",
        "\n",
        "m"
      ],
      "execution_count": 0,
      "outputs": []
    },
    {
      "cell_type": "markdown",
      "metadata": {
        "id": "VjuGVxl8rKue",
        "colab_type": "text"
      },
      "source": [
        "# Designing your map - Symbology\n",
        "\n",
        "Now, go back into the cell above and experiment a bit. Try out some different colours. Do certain combinations work well? Try adding different colours for each of the smaller categories of sites. Does that make the map clearer or more confusing?"
      ]
    },
    {
      "cell_type": "markdown",
      "metadata": {
        "id": "ZcN5jSj13Ive",
        "colab_type": "text"
      },
      "source": [
        "## What symbol scheme is best for your map?\n",
        "\n",
        "Maybe it makes more sense to show size by changing the size of the icon than the colour. Let's make another map that varies the size of the icon for each site based on its size in hectares."
      ]
    },
    {
      "cell_type": "code",
      "metadata": {
        "id": "8d_u8uL5wKBg",
        "colab_type": "code",
        "colab": {}
      },
      "source": [
        "#now make a map just like you did before. \n",
        "location = palmisano_tuscany_sites_iron_age['Latitude'].mean(), palmisano_tuscany_sites_iron_age['Longitude'].mean()\n",
        "m = folium.Map(location=location,zoom_start=8,control_scale = True)\n",
        "\n",
        "\n",
        "# Set the size for each circle icon by defining the 'radius' which is the radius of the circle\n",
        "# Here we are multiplying the size in hectares (the SizeHa attribute) by 15. Try different values here to get icons a size you like\n",
        "for i in range(0,len(palmisano_tuscany_sites_iron_age)):\n",
        "   folium.Circle(\n",
        "      location=[palmisano_tuscany_sites_iron_age['Latitude'].iloc[i],palmisano_tuscany_sites_iron_age['Longitude'].iloc[i]],\n",
        "      popup=palmisano_tuscany_sites_iron_age.iloc[i]['Toponyms'],\n",
        "      radius=palmisano_tuscany_sites_iron_age.iloc[i]['SizeHa']*15, #this is where we set the value of 15 - change this variable to get differrent size icons\n",
        "      color='crimson',\n",
        "      fill=True,\n",
        "      fill_color='crimson'\n",
        "   ).add_to(m)\n",
        "    \n",
        "m"
      ],
      "execution_count": 0,
      "outputs": []
    },
    {
      "cell_type": "markdown",
      "metadata": {
        "id": "UGrxvlO1sn1m",
        "colab_type": "text"
      },
      "source": [
        "# thinking about spatial density or 'clustering' or conceptration\n",
        "\n",
        "Now what if you want to make a map that shows the concentration of sites in the iron age, that is areas with more and fewer sites? \n",
        "\n",
        "\n",
        "This kind of map is often called a 'heatmap'. Essentially it shows areas with more sites as 'hotter' (generally red in colour) and areas with fewer sites as cooler.\n",
        "\n",
        "\n",
        "In this kind of map surely larger sites should count more - we call this 'weighting'. The general idea is that a site that is twice as large should count for twice as much in our heatmap.\n"
      ]
    },
    {
      "cell_type": "code",
      "metadata": {
        "id": "dMDhTabesLOc",
        "colab_type": "code",
        "colab": {}
      },
      "source": [
        "#first make a list of the coordinates of each site and its size in hectares, which we will use for the size-based weighting\n",
        "data_heat = palmisano_tuscany_sites_iron_age[['Latitude','Longitude','SizeHa']].values.tolist()"
      ],
      "execution_count": 0,
      "outputs": []
    },
    {
      "cell_type": "code",
      "metadata": {
        "id": "pzzi69aXtyMN",
        "colab_type": "code",
        "colab": {}
      },
      "source": [
        "#look at the first line of your list to check it seems to have worked\n",
        "data_heat[0]"
      ],
      "execution_count": 0,
      "outputs": []
    },
    {
      "cell_type": "code",
      "metadata": {
        "id": "TVAorbp9uKIS",
        "colab_type": "code",
        "colab": {}
      },
      "source": [
        "#to make the heatmap, we need to get an extra tool, so...\n",
        "import folium.plugins as plugins\n",
        "\n"
      ],
      "execution_count": 0,
      "outputs": []
    },
    {
      "cell_type": "code",
      "metadata": {
        "id": "ZIe4sfeVuM80",
        "colab_type": "code",
        "colab": {}
      },
      "source": [
        "# now make a map a bit like you did before, set your zoom level and your centre location. Then use the plugin to make the heatmap. \n",
        "\n",
        "m = folium.Map(location=location, zoom_start=10)\n",
        "#tiles='stamentoner'\n",
        "\n",
        "plugins.HeatMap(data_heat).add_to(m)\n",
        "\n",
        "#type 'm' for map (the variable you set above) to tell the notebook to display your map\n",
        "m"
      ],
      "execution_count": 0,
      "outputs": []
    },
    {
      "cell_type": "markdown",
      "metadata": {
        "id": "rRVg43qE5Y_Z",
        "colab_type": "text"
      },
      "source": [
        "# Success!\n",
        "\n",
        "You should have a heatmap showing the concentrations of Iron Age sites in the region.\n",
        "\n",
        "You could repeat the exercise with sites from any period in which you are interested.\n",
        "\n",
        "Hopefully you've learned to make some basic maps and are starting to understand how to put into practice some of the theory of map design and spatial visualisation we've been discussing.\n",
        "\n",
        "That's it for today... Remember to save your notebook (under a new name) so you can come back to it and practice making basic static maps. \n",
        "\n"
      ]
    }
  ]
}