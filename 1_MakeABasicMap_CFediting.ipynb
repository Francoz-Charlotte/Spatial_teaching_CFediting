{
  "nbformat": 4,
  "nbformat_minor": 0,
  "metadata": {
    "colab": {
      "name": "1_MakeABasicMap.ipynb",
      "provenance": [],
      "collapsed_sections": [],
      "include_colab_link": true
    },
    "kernelspec": {
      "name": "python3",
      "display_name": "Python 3"
    }
  },
  "cells": [
    {
      "cell_type": "markdown",
      "metadata": {
        "id": "view-in-github",
        "colab_type": "text"
      },
      "source": [
        "<a href=\"https://colab.research.google.com/github/Francoz-Charlotte/Spatial_teaching_CFediting/blob/master/1_MakeABasicMap_CFediting.ipynb\" target=\"_parent\"><img src=\"https://colab.research.google.com/assets/colab-badge.svg\" alt=\"Open In Colab\"/></a>"
      ]
    },
    {
      "cell_type": "markdown",
      "metadata": {
        "id": "dfXStwLAk9GC",
        "colab_type": "text"
      },
      "source": [
        "# Getting Started\n",
        "\n",
        "First things first, if you haven't already done so: you need your own copy of this notebook. Once in Colab, go to \"File\" and  'save a copy in github' (give access if needed.... put it into the repository you made for this course).\n",
        "\n",
        "Now you have your own copy of the notebook. Click 'open in colab' to get started working on the practical exercise. \n",
        "\n",
        "* **Reminders**:    \n",
        " * [GitHub](https://github.com/) is widely known as one of the most famous code hosting platforms for version control and collaboration. This is where these notebooks will be saved and accessed publicly.\n",
        " * [Jupyter notebooks](https://jupyter.org) are web applications that you will be used for the next practical classes which ease the creation and sharing of documents containing live code. You can explore a [gallery](https://github.com/jupyter/jupyter/wiki/A-gallery-of-interesting-Jupyter-Notebooks) of interesting Jupyter notebooks and read why Jupyter is ‘data scientists’ computational notebook of choice ([i](https://www.nature.com/news/interactive-notebooks-sharing-the-code-1.16261) and [ii](https://www.nature.com/articles/d41586-018-07196-1)).\n",
        " * [Colab](https://colab.research.google.com) is a working platform enabling the creation of machine learning model, or, in other word the application of artificial intelligence (AI) that provides systems the ability to automatically learn and improve from experience without being explicitly programmed. Colab platform is provided by Google and allow Jupyter notebook environment to be populated where you can use free GPUs (Graphics Processing Unit just like a plug-in within to renders images, animations and video for instance) and TPUs (Tensor Processing Unit). Colab was chosen as it is a more stable platform for our practical classes, however, this is not the only way to interact with your notebooks, [binder](https://mybinder.org/) among others is also a live environment you can use to share your Git repositories.  \n",
        " \n",
        "\n",
        "\n",
        "---\n",
        "\n",
        "\n",
        "# What's a notebook and how does it work?\n",
        "The layout of these notebooks is simplified compared to most web application ‘architecture’ and is composed of two types of cells: \n",
        "\n",
        "* Text cells which are explanatory and that I will be using - a lot- to describe things to you.  These cells can be easily edited in a language called  [Markdown](https://jupyter-notebook.readthedocs.io/en/stable/examples/Notebook/Working%20With%20Markdown%20Cells.html).\n",
        "\n",
        "* Code cells which we will use to do things. They  are executable code, mostly written in programming [language](https://jupyter-notebook.readthedocs.io/en/stable/examples/Notebook/Running%20Code.html#Code-cells-allow-you-to-enter-and-run-code). To make things happen in a code cell you can click on the cell and then type 'ctrl + enter' or push the play button that will appear on the left. These code cells are commonly using a language called [Python](https://www.python.org/) or [R](https://www.r-project.org/). In this course we'll mostly be using python. As you know, stereotypically archaeologists hate snakes. Python is the exception to this. \n",
        "\n",
        "You can add text or code cells to your version of the notebook (how? place the cursor at the bottom of a cell, and 2 tabs appear - code cell or text cell, chose 1 and you are ready to go!). \n",
        "\n",
        "\n",
        "\n",
        "---\n",
        "\n",
        " \n"
      ]
    },
    {
      "cell_type": "markdown",
      "metadata": {
        "id": "vVM1mmNj6SWE",
        "colab_type": "text"
      },
      "source": [
        "\n",
        "# What we are doing\n",
        "In this practical exercise, you will make some basic maps. You're making them interactively in this notebook. To get started, we will get the tools we need. These tools are open source libraries from Python that allows powerful data visualisation. This is in fact the first bit of python code you are using! \n",
        "\n",
        "We will always start a practical exercise in a notebook  like this. In this lab, we are using Panda, Folium and Branca libraries."
      ]
    },
    {
      "cell_type": "code",
      "metadata": {
        "id": "ws-jEcyKk0MF",
        "colab_type": "code",
        "outputId": "f091b451-7897-4410-fdc0-ca4d4de84292",
        "colab": {
          "base_uri": "https://localhost:8080/",
          "height": 55
        }
      },
      "source": [
        "#codecell_makeabasicmap_importyourlibraries\n",
        "import folium\n",
        "import branca\n",
        "import pandas as pd\n",
        "print(folium.__file__)\n",
        "print(folium.__version__)"
      ],
      "execution_count": 0,
      "outputs": [
        {
          "output_type": "stream",
          "text": [
            "/usr/local/lib/python3.6/dist-packages/folium/__init__.py\n",
            "0.8.3\n"
          ],
          "name": "stdout"
        }
      ]
    },
    {
      "cell_type": "markdown",
      "metadata": {
        "id": "ZnRemIE7mUQK",
        "colab_type": "text"
      },
      "source": [
        "# To make a map we need to get some data. \n",
        "This data must be explicitly spatial - that is have spatial coordinates that tell us about locations in a way that machines can understand. Spatial coordinates are pairs of numbers organised on a x-horizontal and y-vertical axis – this is the bit of geometry you will be using the most as an archaeologist! \n",
        "\n",
        "Coordinates (x,y) can also be called eastings & northings or latitude & longitudes depending on the type projection used to transform the map (refer to your First Course Meeting notes). The most common coordinate format for maps on the internet are [latitude and longitude coordinates](https://www.latlong.net/). \n",
        "\n",
        "\n",
        "\n",
        "---\n",
        "\n",
        "\n",
        "\n",
        "![Xs&Ys](https://github.com/Francoz-Charlotte/Spatial_teaching_CFediting/blob/master/x&y.png?raw=1) \n",
        "\n",
        "**Example of a cylindrical projection of the world**\n",
        "\n",
        "\n",
        "\n",
        "---\n",
        "\n",
        "\n",
        "\n",
        "\n",
        "In this notebook, we'll experiment with the spatial data from:\n",
        "\n",
        " Palmisano, A., Bevan, A. and Shennan, S., 2018. Regional Demographic Trends and Settlement Patterns in Central Italy: Archaeological Sites and Radiocarbon Dates. **Journal of Open Archaeology Data**, 6(1), p.2. DOI: [http://doi.org/10.5334/joad.43](http://doi.org/10.5334/joad.43)\n",
        " \n",
        "(Which you should have read about before class!)\n",
        " \n",
        "\n",
        "---\n",
        "\n",
        "\n",
        "These nice people provided the data behind their analysis so we can re-use it. I converted their old school shapefile to a CSV for you to make things easier. If you ever have to do this yourself, there are lots of online converters like [this one](https://mygeodata.cloud/converter/shp-to-csv). \n",
        "\n",
        "Later in the course, you will also learn to read data from shapefiles directly into your notebook. This is a little more complicated, so we are skipping it for now.\n",
        "\n",
        "* **Reminders**: \n",
        "a shapefile is a vector data storage file format that can be used in spatial software such as [Q-GIS](https://www.qgis.org/en/site/) (refer to your First Course Meeting notes). \n",
        "A CSV file is simple tabular file format using commas or space to distinguish elements within it.\n"
      ]
    },
    {
      "cell_type": "code",
      "metadata": {
        "id": "F0B_wkOblGUW",
        "colab_type": "code",
        "colab": {}
      },
      "source": [
        "#codecell_makeabasicmap_GetUrdataReady\n",
        "\n",
        "#Get the data by reading it into the notebook\n",
        "palmisano_tuscany_sites = pd.read_csv(\"https://raw.githubusercontent.com/ropitz/spatialarchaeology/master/data/site_centriods_tuscany.txt\")\n",
        "\n",
        "palmisano_tuscany_sites.head()"
      ],
      "execution_count": 0,
      "outputs": []
    },
    {
      "cell_type": "markdown",
      "metadata": {
        "id": "kyRsKLy6AtbQ",
        "colab_type": "text"
      },
      "source": [
        "#Learning a new language – decomposing the code\n",
        "\n",
        "In #codecell_makeabasicmap-GetUrdataReady, we have a simple piece of code which allows you to open the CSV file containing the archaeological sites information. The image below will help you to understand the code better and reuse it easily.\n",
        "\n",
        "![makeabasicmap_GetUrdataReady](https://github.com/Francoz-Charlotte/Spatial_teaching_CFediting/blob/master/makeabasicmap-GetUrdataReady.jpg?raw=1)\n",
        "\n",
        "\n",
        "\n",
        "\n"
      ]
    },
    {
      "cell_type": "markdown",
      "metadata": {
        "id": "14eCo5OlnD6b",
        "colab_type": "text"
      },
      "source": [
        "# Maps should answer questions\n",
        "\n",
        "We've discussed how to come up with a good, explicitly spatial question. We've also discussed how to design a good map. Here you're going to start putting all this into practice.\n",
        "\n",
        "The data in Palmisano et al. (2018) article provides information about settlement and population patterns in central Italy and how they change over time. Where people were living and working at various times in the past is a basic archaeological question.\n",
        "\n",
        "Let's say your question is about how many iron age sites are present in the region, and what their distribution is like in space - that is where they are located and how many relatively speaking are in each area. How would you go about answering this question with a map?\n",
        "\n",
        "# Start by filtering your big dataset to get only the data you need\n",
        "\n",
        "The original data file contains over 10970 entries for all archaeological settlement in Central Italy. So you need to filter or SUBSELECT your big data file to get just the iron age sites.\n"
      ]
    },
    {
      "cell_type": "code",
      "metadata": {
        "id": "1PiNejEBmrhR",
        "colab_type": "code",
        "colab": {}
      },
      "source": [
        "#codecell_makeabasicmap_SubSelectData\n",
        "\n",
        "#tell the notebook you only want to see stuff where the period is the iron age.\n",
        "palmisano_tuscany_sites_iron_age = palmisano_tuscany_sites[(palmisano_tuscany_sites['Period']==\"Iron Age\") ]\n",
        "\n",
        "palmisano_tuscany_sites_iron_age.head()"
      ],
      "execution_count": 0,
      "outputs": []
    },
    {
      "cell_type": "markdown",
      "metadata": {
        "colab_type": "text",
        "id": "FpEzAptwEiKz"
      },
      "source": [
        "#Learning a new language – decomposing the code\n",
        "\n",
        "In the #code_makeabasicmap_SubSelectData, we have a simple piece of code which allows you to open the CSV file containing the archaeological sites information. The image below is decomposing this codeline, so you can understand how python language works and re-use it easily.  \n",
        "\n",
        "![](https://github.com/Francoz-Charlotte/Spatial_teaching_CFediting/blob/master/makeabasicmap_SubSelectData.jpg?raw=1)\n"
      ]
    },
    {
      "cell_type": "markdown",
      "metadata": {
        "id": "lTRfAfasnd1A",
        "colab_type": "text"
      },
      "source": [
        "# Put the data onto a map\n",
        "Now we want to add this data to a simple map. \n",
        "\n",
        "You need to start by getting the coordinates of all the points so you can center the map - that is focus on the area where your data is. Probably it will be a good idea to put the middle of your map roughly where the middle of your dataset is located. \n",
        "\n",
        "Think about it... if your data is in Italy, putting Antarctica as the center of your map is not going to be very effective.\n",
        "\n",
        "![Antarctica is not where the map should be](https://upload.wikimedia.org/wikipedia/commons/thumb/e/e0/Antarctica_6400px_from_Blue_Marble.jpg/310px-Antarctica_6400px_from_Blue_Marble.jpg)\n",
        "\n",
        "\n",
        "Now, you want to add a marker for each Iron Age site. A marker, recall, is a graphic icon to represent the coordinates where a site is centred. \n"
      ]
    },
    {
      "cell_type": "code",
      "metadata": {
        "id": "DhHMGaQMneNF",
        "colab_type": "code",
        "colab": {}
      },
      "source": [
        "#codecell_makeabasicmap_BringingUrData2theMap\n",
        "\n",
        "#location is the mean of every lat and long point to centre the map.\n",
        "location = palmisano_tuscany_sites_iron_age['Latitude'].mean(), palmisano_tuscany_sites_iron_age['Longitude'].mean()\n",
        "\n",
        "#A basemap is then created using the location to centre on and the zoom level to start.\n",
        "m = folium.Map(location=location,zoom_start=10)\n",
        "\n",
        "#Each location in the DataFrame is then added as a marker to the basemap points are then added to the map\n",
        "for i in range(0,len(palmisano_tuscany_sites_iron_age)):\n",
        "    folium.Marker([palmisano_tuscany_sites_iron_age['Latitude'].iloc[i],palmisano_tuscany_sites_iron_age['Longitude'].iloc[i]]).add_to(m)\n",
        "        \n",
        "#To display the map simply ask for the object (called 'm') representation\n",
        "m"
      ],
      "execution_count": 0,
      "outputs": []
    },
    {
      "cell_type": "markdown",
      "metadata": {
        "id": "9og4onHTCWr9",
        "colab_type": "text"
      },
      "source": [
        "#Learning a new language – decomposing the code\n",
        "\n",
        "The codecell_makeabasicmap_BringingUrData2theMap contains four codelines aimed to:\n",
        "\n",
        "* centre your map by calculating the mean of the latitude coordinates and mean of longitute coordinates;\n",
        "\n",
        "* zoom your map to a suitable level - e.g. world, country, region or street level;\n",
        "\n",
        "* place a marker for each arachaeological site location.\n",
        "\n",
        "* show the results interactively.\n",
        "\n",
        "\n",
        "Below are the three codelines of the script decomposed for you, so you can adapt it easily in the future.\n",
        "\n",
        "![](https://github.com/Francoz-Charlotte/Spatial_teaching_CFediting/blob/master/makeabasicmap_BringingUrData2theMap_codeline1.jpg?raw=1)\n",
        "\n",
        "Reminder: the mean or average of a set is the total sum of all numbers divided by the number of items in the set. So, for instance, the mean of latitude coordinates = sum of all latitude coordinates/ divided by the number of latitude coordinates in the dataframe.\n",
        "\n",
        "\n",
        "---\n",
        "\n",
        "\n",
        "\n",
        "![](https://github.com/Francoz-Charlotte/Spatial_teaching_CFediting/blob/master/makeabasicmap_BringingUrData2theMap_codeline2.jpg?raw=1)\n",
        "\n",
        "This codeline shows the powerful capabilities of the Folium libary you've imported at the start of this practical lab. You can find more detailed guidance about it [here](https://python-visualization.github.io/folium/).\n",
        "\n",
        "\n",
        "---\n",
        "\n",
        "\n",
        "\n",
        "![](https://github.com/Francoz-Charlotte/Spatial_teaching_CFediting/blob/master/makeabasicmap_BringingUrData2theMap_codeline3.jpg?raw=1)\n",
        "\n",
        "This codeline introduces you to two important concept in coding: the [range](https://pynative.com/python-range-function/) and the loop by using iloc command. \n",
        "Furthermore, by using range(), len() and iloc() you could implement a loop in Python for iterating rows and columns of your pandas dataframe (palminsano_tuscany_sites_iron_age).\n",
        "\n",
        "---\n",
        "\n"
      ]
    },
    {
      "cell_type": "markdown",
      "metadata": {
        "id": "xT89bOyooeE9",
        "colab_type": "text"
      },
      "source": [
        "\n",
        "# Yay! \n",
        "\n",
        "You have a map. Now, a design question: what is a good starting zoom level?\n",
        "\n",
        "Do you want your map zoomed further out or further in given the extent of your data? \n",
        "\n",
        "In the code cell above, play around with the 'zoom_start' parameter and find a good zoom level that makes you happy.\n",
        "\n",
        "\n",
        "---\n",
        "\n",
        "# You just did something new\n",
        "\n",
        "Rather than just executing code by pushing play, you've edited the code by changing a variable. \n",
        "\n",
        "Easy, right?\n",
        "\n",
        "This is where many people get started with scripting in archaeology. You find a bit of [open source code](https://opensource.com/resources/what-open-source) that seems to do what you need, and then you modify it. There's no sense in writing code from scratch when there's lots of useful open source code available that is meant to be shared and modified.\n",
        "\n"
      ]
    },
    {
      "cell_type": "markdown",
      "metadata": {
        "id": "T6kjhm_lpmEu",
        "colab_type": "text"
      },
      "source": [
        "# Representing information and relative values or quantities with graphics\n",
        "\n",
        "Now let's look at how to represent larger and smaller sites. The archaeologists in this project have a qualitative ranking of site size from large (A) to small (F). \n",
        "\n",
        "You can see the categories they've used, and that there are more small sites than larger ones. \n",
        "\n",
        "Say you want to make the two categories of sites that are the largest different colours. Why do this? Maybe larger sites have more people, so this provides insights into demographics.\n",
        "\n"
      ]
    },
    {
      "cell_type": "code",
      "metadata": {
        "id": "-x3bmE-3ov3c",
        "colab_type": "code",
        "colab": {}
      },
      "source": [
        "#codecell_makeabasicmap_ManipulatingyourData_ValueCounting\n",
        "\n",
        "# Size surely matters... group the sites by size category and get the number of sites in each size category.\n",
        "# SizeQual is the name of the 'attribute', or column in the table, that has information on site size. \n",
        "# An attribute is anything attached to spatial data other than the coordinates, such as period, type, size in hectare,etc. \n",
        "\n",
        "palmisano_tuscany_sites_iron_age['SizeQual'].value_counts()"
      ],
      "execution_count": 0,
      "outputs": []
    },
    {
      "cell_type": "markdown",
      "metadata": {
        "id": "MsrofuJaS789",
        "colab_type": "text"
      },
      "source": [
        "\n",
        "\n",
        "---\n",
        "\n",
        "\n",
        "Learning a new language – decomposing the code:\n",
        "\n",
        ".value_counts() is a function that allows you to count numerical and categorical data such as numbers, objects or labels such as attributes. The results are returned as a series of numbers in descending order, so, that you can further evaluate the frequency and distribution of these values.\n",
        "\n",
        "---\n",
        "\n",
        "\n"
      ]
    },
    {
      "cell_type": "markdown",
      "metadata": {
        "id": "mwFZ8ugBIud3",
        "colab_type": "text"
      },
      "source": [
        "In the step above, #codecell_makeabasicmap_SubSelectData, you've set up your new dataset by filtering the iron age settlements from the original dataset. It's what we would call a 'subset' of your original data.\n",
        "\n",
        "Now you are ready to make a new map."
      ]
    },
    {
      "cell_type": "code",
      "metadata": {
        "id": "_vu_cUOzp77n",
        "colab_type": "code",
        "colab": {}
      },
      "source": [
        "#codecell_makeabasicmap_ManipulatingyourData_UsingSymbology\n",
        "\n",
        "#now make a map just like you did before. Note that this time we're adding a scale bar with 'control_scale'\n",
        "location = palmisano_tuscany_sites_iron_age['Latitude'].mean(), palmisano_tuscany_sites_iron_age['Longitude'].mean()\n",
        "m = folium.Map(location=location,zoom_start=10,control_scale = True)\n",
        "\n",
        "#Assign different colours to the two large site categories - B and C in this case\n",
        "for i in range(0,len(palmisano_tuscany_sites_iron_age)):\n",
        "\n",
        "\n",
        "    site_size = palmisano_tuscany_sites_iron_age['SizeQual'].iloc[i]\n",
        "    if site_size == 'C':\n",
        "        color = 'blue'\n",
        "    elif site_size == 'B':\n",
        "        color = 'green'\n",
        "    else:\n",
        "        color = 'red'\n",
        "    \n",
        "# add the markers to the map, using the locations and colours    \n",
        "    folium.Marker([palmisano_tuscany_sites_iron_age['Latitude'].iloc[i],palmisano_tuscany_sites_iron_age['Longitude'].iloc[i]],icon=folium.Icon(color=color)).add_to(m)\n",
        "\n",
        "#type 'm' for map (the variable you set above) to tell the notebook to display your map\n",
        "m"
      ],
      "execution_count": 0,
      "outputs": []
    },
    {
      "cell_type": "markdown",
      "metadata": {
        "id": "yUZmFVuyJ9tN",
        "colab_type": "text"
      },
      "source": [
        "#Learning a new language – decomposing the code\n",
        "\n",
        "![](https://github.com/Francoz-Charlotte/Spatial_teaching_CFediting/blob/master/makeabasicmap_ManipulatingyourData_UsingSymbology_.jpg?raw=1) \n",
        "\n",
        "\n",
        "\n",
        "\n",
        "\n",
        "---\n",
        "\n",
        "\n",
        "* Note: You can easily change icon style  and find more in this [list](https://fontawesome.com/icons?d=gallery). \n",
        "\n",
        "\n",
        "\n"
      ]
    },
    {
      "cell_type": "markdown",
      "metadata": {
        "id": "VjuGVxl8rKue",
        "colab_type": "text"
      },
      "source": [
        "# Designing your map - Symbology\n",
        "\n",
        "Now, go back into #codecell_makeabasicmap_ManipulatingyourData_UsingSymbology and experiment a bit. Try out some different colours. Do certain combinations work well? Try adding different colours for each of the smaller categories of sites. Does that make the map clearer or more confusing?"
      ]
    },
    {
      "cell_type": "markdown",
      "metadata": {
        "id": "ZcN5jSj13Ive",
        "colab_type": "text"
      },
      "source": [
        "## What symbol scheme is best for your map?\n",
        "\n",
        "Maybe it makes more sense to show size by changing the size of the icon than the colour. Let's make another map that varies the size of the icon for each site based on its size in hectares. "
      ]
    },
    {
      "cell_type": "code",
      "metadata": {
        "id": "8d_u8uL5wKBg",
        "colab_type": "code",
        "colab": {}
      },
      "source": [
        "#codecell_makeabasicmap_ManipulatingyourData_UsingSymbologyExperiment\n",
        "\n",
        "#now make a map just like you did before. \n",
        "location = palmisano_tuscany_sites_iron_age['Latitude'].mean(), palmisano_tuscany_sites_iron_age['Longitude'].mean()\n",
        "m = folium.Map(location=location,zoom_start=8,control_scale = True)\n",
        "\n",
        "\n",
        "# Set the size for each circle icon by defining the 'radius' which is the radius of the circle\n",
        "# Here we are multiplying the size in hectares (the SizeHa attribute) by 15. Try different values here to get icons a size you like\n",
        "for i in range(0,len(palmisano_tuscany_sites_iron_age)):\n",
        "   folium.Circle(\n",
        "      location=[palmisano_tuscany_sites_iron_age['Latitude'].iloc[i],palmisano_tuscany_sites_iron_age['Longitude'].iloc[i]],\n",
        "      popup=palmisano_tuscany_sites_iron_age.iloc[i]['Toponyms'],\n",
        "      radius=palmisano_tuscany_sites_iron_age.iloc[i]['SizeHa']*15, #this is where we set the value of 15 - change this variable to get differrent size icons\n",
        "      color='crimson',\n",
        "      fill=True,\n",
        "      fill_color='crimson'\n",
        "   ).add_to(m)\n",
        "    \n",
        "#type 'm' for map (the variable you set above) to tell the notebook to display your map\n",
        "m"
      ],
      "execution_count": 0,
      "outputs": []
    },
    {
      "cell_type": "markdown",
      "metadata": {
        "id": "UGrxvlO1sn1m",
        "colab_type": "text"
      },
      "source": [
        "# thinking about spatial density or 'clustering' or conceptration\n",
        "\n",
        "Now what if you want to make a map that shows the concentration of sites in the iron age, that is areas with more and fewer sites? \n",
        "\n",
        "\n",
        "This kind of map is often called a 'heatmap'. Essentially it shows areas with more sites as 'hotter' (generally red in colour) and areas with fewer sites as cooler.\n",
        "\n",
        "\n",
        "In this kind of map surely larger sites should count more - we call this 'weighting'. The general idea is that a site that is twice as large should count for twice as much in our heatmap.\n"
      ]
    },
    {
      "cell_type": "code",
      "metadata": {
        "id": "dMDhTabesLOc",
        "colab_type": "code",
        "colab": {}
      },
      "source": [
        "#first make a list of the coordinates of each site and its size in hectares, which we will use for the size-based weighting\n",
        "data_heat = palmisano_tuscany_sites_iron_age[['Latitude','Longitude','SizeHa']].values.tolist()"
      ],
      "execution_count": 0,
      "outputs": []
    },
    {
      "cell_type": "code",
      "metadata": {
        "id": "pzzi69aXtyMN",
        "colab_type": "code",
        "outputId": "4a9e69b9-026d-4f73-9e34-f267d11886c8",
        "colab": {
          "base_uri": "https://localhost:8080/",
          "height": 36
        }
      },
      "source": [
        "#look at the first line of your list to check it seems to have worked\n",
        "data_heat[0]"
      ],
      "execution_count": 28,
      "outputs": [
        {
          "output_type": "execute_result",
          "data": {
            "text/plain": [
              "[41.51531639941, 12.63932357767, 0.2]"
            ]
          },
          "metadata": {
            "tags": []
          },
          "execution_count": 28
        }
      ]
    },
    {
      "cell_type": "code",
      "metadata": {
        "id": "TVAorbp9uKIS",
        "colab_type": "code",
        "colab": {}
      },
      "source": [
        "#to make the heatmap, we need to get an extra tool, so...\n",
        "import folium.plugins as plugins\n",
        "\n"
      ],
      "execution_count": 0,
      "outputs": []
    },
    {
      "cell_type": "code",
      "metadata": {
        "id": "ZIe4sfeVuM80",
        "colab_type": "code",
        "outputId": "d261eb29-91e9-46cb-a97e-40442ff8aedd",
        "colab": {
          "base_uri": "https://localhost:8080/",
          "height": 1000
        }
      },
      "source": [
        "# now make a map a bit like you did before, set your zoom level and your centre location. Then use the plugin to make the heatmap. \n",
        "\n",
        "m = folium.Map(location=location, zoom_start=10)\n",
        "\n",
        "#tiles='stamentoner'\n",
        "\n",
        "plugins.HeatMap(data_heat).add_to(m)\n",
        "\n",
        "#type 'm' for map (the variable you set above) to tell the notebook to display your map\n",
        "m"
      ],
      "execution_count": 30,
      "outputs": [
        {
          "output_type": "execute_result",
          "data": {
            "text/html": [
              "<div style=\"width:100%;\"><div style=\"position:relative;width:100%;height:0;padding-bottom:60%;\"><iframe src=\"data:text/html;charset=utf-8;base64,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\" style=\"position:absolute;width:100%;height:100%;left:0;top:0;border:none !important;\" allowfullscreen webkitallowfullscreen mozallowfullscreen></iframe></div></div>"
            ],
            "text/plain": [
              "<folium.folium.Map at 0x7f264e3f4978>"
            ]
          },
          "metadata": {
            "tags": []
          },
          "execution_count": 30
        }
      ]
    },
    {
      "cell_type": "markdown",
      "metadata": {
        "id": "rRVg43qE5Y_Z",
        "colab_type": "text"
      },
      "source": [
        "# Success!\n",
        "\n",
        "You should have a heatmap showing the concentrations of Iron Age sites in the region.\n",
        "\n",
        "You could repeat the exercise with sites from any period in which you are interested.\n",
        "\n",
        "Hopefully you've learned to make some basic maps and are starting to understand how to put into practice some of the theory of map design and spatial visualisation we've been discussing.\n",
        "\n",
        "That's it for today... Remember to save your notebook (under a new name) so you can come back to it and practice making basic static maps. \n",
        "\n"
      ]
    }
  ]
}