{
  "nbformat": 4,
  "nbformat_minor": 0,
  "metadata": {
    "colab": {
      "name": "Copy of 2_webmaps_and_distributions.ipynb",
      "provenance": [],
      "collapsed_sections": [],
      "include_colab_link": true
    },
    "kernelspec": {
      "display_name": "Python 3",
      "language": "python",
      "name": "python3"
    }
  },
  "cells": [
    {
      "cell_type": "markdown",
      "metadata": {
        "id": "view-in-github",
        "colab_type": "text"
      },
      "source": [
        "<a href=\"https://colab.research.google.com/github/Francoz-Charlotte/Spatial_teaching_CFediting/blob/master/2_webmaps_and_distributions_CFediting.ipynb\" target=\"_parent\"><img src=\"https://colab.research.google.com/assets/colab-badge.svg\" alt=\"Open In Colab\"/></a>"
      ]
    },
    {
      "cell_type": "markdown",
      "metadata": {
        "id": "XEKQmmmkiIio",
        "colab_type": "text"
      },
      "source": [
        "## Getting started ### \n",
        "\n",
        "<font color='orangered'> ~ déjà vu ~</font> if you haven't already done so: You need your own copy of this notebook. Go to \"File\" and 'save a copy in github' (give access if needed.... put it into the repository you made for this course). Now you have your own copy of the notebook. Click 'open in colab' to get started working on the practical exercise."
      ]
    },
    {
      "cell_type": "markdown",
      "metadata": {
        "id": "-1zyXWFvOql5",
        "colab_type": "text"
      },
      "source": [
        "# Interactive maps and looking more at distributions\n",
        "\n",
        "<font color='orangered'> ~ déjà vu ~</font> Last week, we focused on making mostly static maps, that is maps where you mostly just expect your user to look at the product you've prepared. Around a research question about iron age sites distribution in Central Italy, we focussed the practical on the purpose of the output (i.e. the map) through:\n",
        "  * data exploration => filtering and creating data subset\n",
        "  * visualisation => zoom level (visual balance), visual variables (symbols/forms, dimension, color) & weight\n",
        "  * organisation => difference between geospatial and attribute data (role of attribute weighting)\n",
        "\n",
        "\n",
        "<font color='magenta'> ~ new ~</font> This week we'll continue exploring types of output and we'll look at making maps where interactivity is part of the design. This will allow to spend some more time on that all important topic: **spatial distributions**. \n",
        "\n",
        "\n",
        "Central to this is our abibility to interrogate, manipulate and remodel the geospatial database and answer spatially explicit questions. This practical lab will provide you ways to do so by:\n",
        "\n",
        "  * transforming database (combining, reducing by selection, merging)\n",
        "  * creating layers\n",
        "\n",
        "\n",
        "*Types of Distribution: Data Sampling*\n",
        "\n",
        "\n",
        "<img src=\"https://github.com/Francoz-Charlotte/Spatial_teaching_CFediting/blob/master/Distribution.png?raw=1\" width=\"500\"/> </div> \n",
        "\n",
        "*Examples of Applications*\n",
        "\n",
        "<img src=\"https://github.com/Francoz-Charlotte/Spatial_teaching_CFediting/blob/master/Examples%20of%20applications.png?raw=1\" width=\"500\"/> </div> "
      ]
    },
    {
      "cell_type": "markdown",
      "metadata": {
        "id": "nVvxjDYFOkK8",
        "colab_type": "text"
      },
      "source": [
        "##Start by getting tools, always\n",
        "\n"
      ]
    },
    {
      "cell_type": "code",
      "metadata": {
        "ExecuteTime": {
          "end_time": "2018-11-19T05:33:33.494092Z",
          "start_time": "2018-11-19T05:33:24.204201Z"
        },
        "id": "mLiflC-JiIir",
        "colab_type": "code",
        "colab": {}
      },
      "source": [
        "#codecell_Webmaps&Distributions_ImportUrLibraries\n",
        "\n",
        "#Like last time, get the tools we need at the start\n",
        "import pandas as pd\n",
        "import folium\n",
        "import numpy as np"
      ],
      "execution_count": 0,
      "outputs": []
    },
    {
      "cell_type": "markdown",
      "metadata": {
        "id": "1lJa2mq5FkDQ",
        "colab_type": "text"
      },
      "source": [
        "in #codecell__Webmaps&Distributions_ImportUrLibraries:\n",
        "\n",
        "<font color='orangered'> ~ déjà vu ~</font> Last week, we worked with folium, branca and pandas libraries. \n",
        "\n",
        "<font color='magenta'> ~ new ~</font> This week, you will still be working with panda and folium and be replacing branca library for [numpy](https://numpy.org/). "
      ]
    },
    {
      "cell_type": "markdown",
      "metadata": {
        "id": "TN6AB-EgPF-q",
        "colab_type": "text"
      },
      "source": [
        "## And then by getting the data\n",
        "\n",
        "This week we are working with the data from the Antikythera survey project.\n",
        "\n",
        "\n",
        "It's citation is: Bevan, A. and Conolly, J. 2012. Intensive Survey Data from Antikythera, Greece. **Journal of Open Archaeology Data** 1(1), DOI: http://dx.doi.org/10.5334/4f3bcb3f7f21d.\n",
        "\n",
        "This data has been made available at the Archaeological Data Service (ADS) archive at https://archaeologydataservice.ac.uk/archives/view/antikythera_ahrc_2012/ and completely open for re-use. You can [see](https://archaeologydataservice.ac.uk/archives/view/antikythera_ahrc_2012/stats.cfm) how many times their database has been viewed and downloaded. \n",
        "\n",
        "\n",
        "### Open Data\n",
        "\n",
        "Last week we mentioned open source software. Open data operates under the same broad ethos, and follows many of the same principles. Sharing, reuse, and attribution are key. If you continue to reuse the Antikythera data, be sure to continue to link back to and cite the source.\n",
        "\n",
        "* Perhaps the most relevant example in the UK is **OS (Ordnance survey) OpenData** which was made freely available for the first time in 2010. Last review ([2018](https://www.ordnancesurvey.co.uk/business-government/tools-support/open-data-support)) counted 1.9 million open data downloads, the equivalent of 150 people download OS OpenData every day!\n",
        "\n",
        "* 2015 has seen Environmental Agency made **lidar (light detection and ranging)** data available to the public, for free, as open data. Within the first year of release 500,000 lidar downloads were made equating to nearly 13 million km2 of data! \n",
        "\n",
        "\n",
        "### Working with other people's data: the case of Antikythera \n",
        "\n",
        "Have a quick look around the dataset as it's described on the ADS site. You'll notice that they've split up their dataset in ways that made sense to them at the time. Specifically they've divided up the artefact data into three discrete elements: 'pottery', 'lithics' and 'other' into separate files (very much like we did last week by filtering and creating a subset). This is a pretty normal archaeological data thing to do. \n",
        "\n",
        "Here's the trick, we want to focus on both **ceramics and small finds** and to look at these datasets together. This means you'll have to grab both of them and  combine them. You are organising the attribute data in order to reuse it for something new. This is thinking of a <font color='magenta'> **relational database model**</font>."
      ]
    },
    {
      "cell_type": "code",
      "metadata": {
        "id": "up4gTxO6Ukzb",
        "colab_type": "code",
        "colab": {}
      },
      "source": [
        "#codecell_Webmaps&Distributions_OrganisingUrdata\n",
        "\n",
        "#Like last time, get the data we'll need at the start. I've been nice again and converted their coordinates to latitude and longitude for you. \n",
        "#You'll learn to do this yourself later in the course.\n",
        "\n",
        "# we label the first dataset 'pottery'\n",
        "pottery = pd.read_csv('https://raw.githubusercontent.com/ropitz/spatialarchaeology/master/data/antikythera_survey_pottery.csv')\n",
        "\n",
        "# we label the second dataset 'small finds'\n",
        "small_finds = pd.read_csv('https://raw.githubusercontent.com/ropitz/spatialarchaeology/master/data/antikythera_survey_small_finds.csv')\n",
        "\n"
      ],
      "execution_count": 0,
      "outputs": []
    },
    {
      "cell_type": "code",
      "metadata": {
        "id": "g3MV8nj-VKzB",
        "colab_type": "code",
        "colab": {}
      },
      "source": [
        "#codecell_Webmaps&Distributions_CheckingZeData\n",
        "\n",
        "#let's check the individual pottery file.  \n",
        "pottery.head()"
      ],
      "execution_count": 0,
      "outputs": []
    },
    {
      "cell_type": "code",
      "metadata": {
        "id": "SRR2Nyugbnh-",
        "colab_type": "code",
        "colab": {}
      },
      "source": [
        "#codecell_Webmaps&Distributions_CheckingZeData\n",
        "\n",
        "#let's check the individual pottery file to see \n",
        "small_finds.head()"
      ],
      "execution_count": 0,
      "outputs": []
    },
    {
      "cell_type": "markdown",
      "metadata": {
        "id": "mrtIpk4DS-DK",
        "colab_type": "text"
      },
      "source": [
        "\n",
        "\n",
        "---\n",
        "\n",
        "\n",
        "###Learning a new language – decomposing the code\n",
        "<font color='orangered'> ~ déjà vu ~</font> in #codecell__Webmaps&Distributions_CheckingZeData:\n",
        "\n",
        "* **=**    allows you to provide a new name, often more convenient than the link pathname\n",
        "* **pd.read_csv** allows you to open a CSV format file\n",
        "\n",
        "* **.head() function** take a peek at the first part of the dataset \n",
        "\n",
        "\n",
        "---\n",
        "\n",
        "\n",
        "Here have a look at these 2 datasets and how they are structured. Also, the coordinates have been transformed for you from cartesian co-ordinates (grid system - shown in column *'Xsugg' &\t'Ysugg'*) back to latitude/longitude (geodetic system - shown in column *'DDlat' &\t'DDlong'*). Below is a very crude diagram demonstrating this transformation. \n",
        "\n",
        "*Relationship between Geographic (top left image)& Cartesian coordinates (bottom left image)*\n",
        "\n",
        "<img src=\"https://github.com/Francoz-Charlotte/Spatial_teaching_CFediting/blob/master/x&y_webmaps&distribution_2.png?raw=1\" width=\"350\"/> </div><img src=\"https://github.com/Francoz-Charlotte/Spatial_teaching_CFediting/blob/master/Geographic%20&%20Cartesian%20Coordinates.png?raw=1\" width=\"300\"/> </div>\n",
        "\n",
        "\n",
        "\n",
        "Whilst the conversion from geodetic to cartesian is fairly straightforward, converting cartesian to geodetic is a complex problem (& if you are interested on how this is done mathematically have a look at [this](https://www.movable-type.co.uk/scripts/latlong-os-gridref.html)).\n",
        "\n",
        "\n",
        "---\n",
        "\n"
      ]
    },
    {
      "cell_type": "code",
      "metadata": {
        "id": "VIQ_n9BCY1cu",
        "colab_type": "code",
        "colab": {}
      },
      "source": [
        "#codecell_Webmaps&Distributions_Concatenation\n",
        "\n",
        "# then we combine the two datasets together to make a big dataset we call 'survey data'\n",
        "survey_data = pd.concat([pottery,small_finds], sort=False, ignore_index=True)"
      ],
      "execution_count": 0,
      "outputs": []
    },
    {
      "cell_type": "markdown",
      "metadata": {
        "id": "SjpgcdojY5NJ",
        "colab_type": "text"
      },
      "source": [
        "##Learning a new language – decomposing the code\n",
        "\n",
        "Codecell__Webmaps&Distributions_Concatenation can be decomposed like this:\n",
        "  \n",
        "![](https://github.com/Francoz-Charlotte/Spatial_teaching_CFediting/blob/master/Webmaps&Distributions_Concatenation_.jpg?raw=1)\n",
        "\n",
        "\n",
        "\n",
        "---\n",
        "\n",
        "\n",
        "* **Reminder**: an array is a group of elements/objects/items organised as a set where columns (of equal size) are multiplied by rows (of equal size). The advantage of using arrays is that  all elements can be accessed at any time randomly. Last week, you had done something similar to call all items from the range [i] ( <font color='crimson'>in #codecell_makeabasicmap_BringingUrData2theMap </font>). This week, you are linking together 2 arrays. Pandas library provides various ways to combine together Series or DataFrame such as merge, join and concatenate ([see user guide](https://pandas.pydata.org/pandas-docs/stable/user_guide/merging.html)). \n",
        "\n",
        "\n",
        "---\n",
        "\n"
      ]
    },
    {
      "cell_type": "markdown",
      "metadata": {
        "id": "_62uXk_TQwVY",
        "colab_type": "text"
      },
      "source": [
        "\n",
        "Let's make sure nothing went wrong..."
      ]
    },
    {
      "cell_type": "code",
      "metadata": {
        "id": "pv4XxSSQU2YT",
        "colab_type": "code",
        "colab": {}
      },
      "source": [
        "#codecell_Webmaps&Distributions_CheckingZeData\n",
        "\n",
        "#check things loaded in and combined OK\n",
        "survey_data.head()"
      ],
      "execution_count": 0,
      "outputs": []
    },
    {
      "cell_type": "markdown",
      "metadata": {
        "id": "PZqevW03Q4ig",
        "colab_type": "text"
      },
      "source": [
        "# Now ask a question\n",
        "\n",
        "Like we said last week, we are using maps and spatial analysis to pose, explore and respond to spatial questions. \n",
        "\n",
        "My question is a bit like last week's question. I want to know about how many sites are in each period, so I can try and understand changing patterns over time. \n",
        "\n",
        "However, you may have noticed when you read in the data that it's structure is a bit different from last week's data. Instead of each site belonging to one period, it's assigned with varying probability to several different periods. \n",
        "\n",
        "This is a totally legit archaeological thing to do. Many sites have activity from multiple periods, and depending on the available evidence, you might be more or less confident about the presence or absence of activity in a specific period. \n",
        "\n",
        "### So what do we do now?\n",
        "\n",
        "We might start simply by assigning each site primarily to its 'most likely period'. \n",
        "\n",
        "This takes a few steps....\n",
        "\n",
        "\n",
        "### step 1 - prepare the data\n",
        "\n",
        "...you have to re-think the dataset to answer our question: **'how many sites are in each period?'**. Data cleaning is the most consuming part of any analysis - and not only in archaeology but for all sciences analyses in general.  \n"
      ]
    },
    {
      "cell_type": "code",
      "metadata": {
        "id": "bbjLzluu1kx9",
        "colab_type": "code",
        "colab": {}
      },
      "source": [
        "#codecell_Webmaps&Distributions_Subselect\n",
        "\n",
        "# first we create a subset of our data that only contains the columns with information about time\n",
        "# this is in part because we want to do some operations where everything has to be a number, and some of the other fields contain text\n",
        "# it's also just to make things simpler when we look at them\n",
        "\n",
        "survey_data_time = survey_data[['MNLN', 'FNEB1',\t'EB2',\t'LPrePal', 'FPal', 'SPal', 'TPal', 'PPalPG', 'Geom', 'Arch', 'Class', 'Hell', 'ERom', 'MRom', 'LRom', 'EByz', 'MByz', 'EVen', 'MVen', 'LVen', 'Recent', 'Other']]\n",
        "survey_data_time.head()"
      ],
      "execution_count": 0,
      "outputs": []
    },
    {
      "cell_type": "markdown",
      "metadata": {
        "id": "T1CkxzZPdzeh",
        "colab_type": "text"
      },
      "source": [
        "---\n",
        "####Learning a new language – decomposing the code \n",
        "\n",
        "<font color='orangered'> ~ déjà vu ~</font>  in codecell_Webmaps&Distributions_Subselect\n",
        "\n",
        "**[ ]**    allows you to subselect within your new *'survey_data'* dataframe.\n",
        " \n",
        "---"
      ]
    },
    {
      "cell_type": "code",
      "metadata": {
        "id": "1P23K0yo2y5U",
        "colab_type": "code",
        "colab": {}
      },
      "source": [
        "#codecell_Webmaps&Distributions_ChangingDataType\n",
        "\n",
        "# if you were to look through this data\n",
        "survey_data_time.dtypes"
      ],
      "execution_count": 0,
      "outputs": []
    },
    {
      "cell_type": "markdown",
      "metadata": {
        "id": "s9ZRoNq_kY-N",
        "colab_type": "text"
      },
      "source": [
        "---\n",
        "####Learning a new language – decomposing the code\n",
        "\n",
        "In #codecell__Webmaps&Distributions_ChangingDataType, <font color='magenta'> ~ .dtypes ~</font> function allows you to see which type of data is in our *'survey_data_time'* dataframe.Three types of data are returned **int64** which are integers (whole numbers -numerical data), **float64** which are floating data (contains floating decimal points -numerical data) and **object** which is a string (not a number -categorical data). \n",
        "\n",
        "Looking further in this dataset, *'survey_data_time'*, we can also see that some that some fields contain missing values (NaN). Let's see what we can do about that and why it matters. \n",
        "\n",
        "---\n",
        "\n"
      ]
    },
    {
      "cell_type": "code",
      "metadata": {
        "id": "rDnMwtylkVec",
        "colab_type": "code",
        "colab": {}
      },
      "source": [
        "#codecell_Webmaps&Distributions_AllNumbers\n",
        "\n",
        "# null values can break number-based operations\n",
        "# let's get rid of missing values and make sure everything is a number\n",
        "\n",
        "survey_data_time.astype('float64').fillna(0)"
      ],
      "execution_count": 0,
      "outputs": []
    },
    {
      "cell_type": "markdown",
      "metadata": {
        "id": "mjRxTDQQhqn2",
        "colab_type": "text"
      },
      "source": [
        "---\n",
        "####Learning a new language – decomposing the code\n",
        "\n",
        "In the #codecell_Webmaps&Distributions_AllNumbers, you are making sure all these missing values, NaN, becomes null numbers (0=zero) . \n",
        "\n",
        "But why missing values need to be removed? Simply because you cannot apply maths to them (e.g. adding or multiplying columns together, reorder values of a column from max to min value, etc.).\n",
        "\n",
        "And this is how it can be done:\n",
        "\n",
        "<img src=\"https://github.com/Francoz-Charlotte/Spatial_teaching_CFediting/blob/master/Webmaps&Distributions_RemovingNaN_.jpg?raw=1\" width=\"500\"/>\n",
        "</div>\n",
        "\n",
        "\n",
        "\n",
        "---\n",
        "\n"
      ]
    },
    {
      "cell_type": "markdown",
      "metadata": {
        "id": "ym3UIQjPZ3Y5",
        "colab_type": "text"
      },
      "source": [
        "### step 2 - Reshaping your data\n",
        "\n",
        "Data transformation is an important thing to learn to do. \n",
        "\n",
        "Right now we have a bunch of columns with information about time. What we want is one single column that contains the most likely period - which is represented in each row by the column with the greatest value. \n",
        "\n",
        "*think about that for a moment*\n",
        "\n",
        "Right now the 'most likely period' is represented by a number in each row, but that's not the piece of information we want in our new column - we want the name of the column that contains that number.Once you have the positions of the maximum values, you can extract them...\n",
        "\n",
        "**In other words, we want to know the index positions of the elements (that satisfy the condition) and do whatever you want with it.** \n"
      ]
    },
    {
      "cell_type": "code",
      "metadata": {
        "id": "-VTV0zNi8TBA",
        "colab_type": "code",
        "colab": {}
      },
      "source": [
        "#codecell_Webmaps&Distributions_MaximumValue\n",
        "\n",
        "#here we take the columns from all the different periods, get the one with the maximum value, \n",
        "def returncolname(row, colnames):\n",
        "    return colnames[np.argmax(row.values)]\n",
        "#and write that column's name to our new 'colmax' field\n",
        "survey_data_time['colmax'] = survey_data_time.apply(lambda x: returncolname(x, survey_data_time.columns), axis=1)\n"
      ],
      "execution_count": 0,
      "outputs": []
    },
    {
      "cell_type": "markdown",
      "metadata": {
        "id": "hyFFUO0NIzR2",
        "colab_type": "text"
      },
      "source": [
        "---\n",
        "####Learning a new language – decomposing the code\n",
        "\n",
        "In the #codecell_Webmaps&Distributions_AllNumbers, you learn a new way to: \n",
        "\n",
        "#####1) define a function : \n",
        "\n",
        "\n",
        "<img src=\"https://github.com/Francoz-Charlotte/Spatial_teaching_CFediting/blob/master/Webmaps&Distributions_MaximumValue.png?raw=1\" width=\"700\"/> </div> \n",
        "\n",
        "\n",
        "\n",
        "\n",
        "\n",
        "#####2) pass/apply this function as an argument:\n",
        "\n",
        "<img src=\"https://github.com/Francoz-Charlotte/Spatial_teaching_CFediting/blob/master/Webmaps&Distributions_MaximumValue_2.png?raw=1\" width=\"900\"/> </div>\n",
        "\n",
        "---\n",
        "\n",
        "\n",
        "\n",
        "#####*how does this really work?* \n",
        "\n",
        "Remember that we are working with arrays, so, getting maximum or minimum values can be schematised like this:\n",
        "\n",
        "<img src=\"https://github.com/Francoz-Charlotte/Spatial_teaching_CFediting/blob/master/Arrays_.png?raw=1\" width=\"500\"/> </div>\n",
        "\n",
        "\n",
        "\n",
        "---\n",
        "\n"
      ]
    },
    {
      "cell_type": "code",
      "metadata": {
        "id": "jcza17og5zeo",
        "colab_type": "code",
        "colab": {}
      },
      "source": [
        "#codecell_Webmaps&Distributions_CheckingZeData\n",
        "\n",
        "#we can check it has all gone well\n",
        "survey_data_time.head()"
      ],
      "execution_count": 0,
      "outputs": []
    },
    {
      "cell_type": "markdown",
      "metadata": {
        "id": "O5iNwhgraxn9",
        "colab_type": "text"
      },
      "source": [
        "## Merging tables\n",
        "\n",
        "OK now we have a single column, *'colmax'*, with the information we need - the most likely date. To create this column, we broke off some of our data (the columns with numbers) from the rest of the data (important descriptive text). We might well want to stick these two datasets back together before proceeding. \n",
        "\n",
        "**splitting and merging tables is another basic skill when working with data**\n",
        "\n",
        "\n"
      ]
    },
    {
      "cell_type": "code",
      "metadata": {
        "id": "6LxENtT79Rvl",
        "colab_type": "code",
        "colab": {}
      },
      "source": [
        "#codecell_Webmaps&Distributions_MergingZeData\n",
        "\n",
        "#now we can also add our new column back to our original data table by doing a 'merge'\n",
        "#create a new table 'survey_data_maxtime' by merging our original 'survey_data' with ONLY the 'colmax' column from our new table\n",
        "survey_data_maxtime = pd.merge(survey_data, survey_data_time['colmax'], how='inner', left_index=True, right_index=True)\n",
        "\n",
        "\n",
        "survey_data_maxtime.head()"
      ],
      "execution_count": 0,
      "outputs": []
    },
    {
      "cell_type": "markdown",
      "metadata": {
        "id": "NW2zUO2MKIDE",
        "colab_type": "text"
      },
      "source": [
        "####Learning a new language – decomposing the code\n",
        "\n",
        "In the #codecell_Webmaps&Distributions_AllNumbers, you learned how to merge using pandas, and, if you want to further explore and apply pd.merge() to your data, check which [parameters](https://pandas.pydata.org/pandas-docs/stable/reference/api/pandas.DataFrame.merge.html) apply.\n",
        "\n",
        "<img src=\"https://github.com/Francoz-Charlotte/Spatial_teaching_CFediting/blob/master/Webmaps&Distributions_Merge.png?raw=1\" width=\"900\"/> </div>"
      ]
    },
    {
      "cell_type": "markdown",
      "metadata": {
        "id": "8tbZd-bqVx7p",
        "colab_type": "text"
      },
      "source": [
        "## The curse of abbreviations\n",
        "\n",
        "Have a look at the resulting table. What do all those column names mean? Right now you are probably justifiably confused. We'll be talking more about the mess that is 'other people's data' next week. For now, have a look at the documentation for these datasets at: https://archaeologydataservice.ac.uk/catalogue/adsdata/arch-1115-2/dissemination/csv/pottery/documentation/pottery.txt\n",
        "\n",
        "You'll see they explain that many of those weird abbreviations are periods and that the number in each one represents the chance that a given find belongs to that period. Sometimes I wish people wouldn't use abbreviations like this, but they've defined them in their metadata file, so we can't compain too much."
      ]
    },
    {
      "cell_type": "markdown",
      "metadata": {
        "id": "TZeKlPYrbzT3",
        "colab_type": "text"
      },
      "source": [
        "## Finally, we make maps!\n",
        "\n",
        "\n",
        "We're going to look at a couple different ways of making maps, because there are lots of tools we can use to do this.\n",
        "\n",
        "### Maps for visualization and interpretation\n",
        "\n",
        "Broadly speaking, there are two ways to approach interpreting spatial patterns. There's visualisation and interpretation, where you might visually compare distributions or densities or locations of two or more datasets by plotting them on a map and intepreting what you see. Then there's statistical analysis. \n",
        "\n",
        "We'll start with the tools to do the first one, and introduce statistical analysis later in the course. \n",
        "\n",
        "We'll also discuss the value of each approach, and when to apply it.\n",
        "\n",
        "### As always, start with a question\n",
        "\n",
        "As we said at the beginning of today, we're interested in change over time. Analysis Question: **How does the distribution of finds change between different periods?**\n",
        "\n",
        "\n"
      ]
    },
    {
      "cell_type": "code",
      "metadata": {
        "id": "hYZwq0DesMEw",
        "colab_type": "code",
        "colab": {}
      },
      "source": [
        "#codecell_Webmaps&Distributions_ImportUrLibraries\n",
        "\n",
        "# we're going to get geopandas, another tool for making maps\n",
        "!pip install geopandas\n"
      ],
      "execution_count": 0,
      "outputs": []
    },
    {
      "cell_type": "code",
      "metadata": {
        "id": "_RdAEMkRsl11",
        "colab_type": "code",
        "colab": {}
      },
      "source": [
        "#codecell_Webmaps&Distributions_ImportUrLibraries\n",
        "\n",
        "# get some more tools for making maps (and other things)\n",
        "\n",
        "%matplotlib inline\n",
        "import geopandas as gpd\n",
        "import seaborn as sns\n",
        "import numpy as np\n",
        "import matplotlib.pyplot as plt"
      ],
      "execution_count": 0,
      "outputs": []
    },
    {
      "cell_type": "markdown",
      "metadata": {
        "id": "T6MYggBtwUnd",
        "colab_type": "text"
      },
      "source": [
        "## Geopandas\n",
        "\n",
        "We're going to introduce a new mapping tool - [geopandas](http://geopandas.org/gallery/index.html). It can do many of the same things as folium, which we were using in #MakingaBasicMap practical lab.\n",
        "\n",
        "It's particularly useful for showing categorical data. \n",
        "\n",
        "We have seen above in #codecell_Webmaps&Distributions_ChangingDataType that the function **.dtype()** allows you to see which type of data is your columns. Data can be broadly split between numerical and categorical (see image below), and the difference that lies between them is crucial to grasp as it will define which tests and commands you can perform. \n",
        "\n",
        "<img src=\"http://2.bp.blogspot.com/-IUepWeQ3HDA/VO2LddsPkDI/AAAAAAAACNU/pyoF8xyaYsg/s1600/datatypes.png\" width=\"500\"/> </div>\n",
        "\n",
        "\n",
        "We could start tryping to see and understand the distributions of our sites by periods simply by mapping the period labels with different colors.\n"
      ]
    },
    {
      "cell_type": "code",
      "metadata": {
        "id": "MpBpnIxBrWq6",
        "colab_type": "code",
        "colab": {}
      },
      "source": [
        "#Codecell_Webmaps&Distributions_dataframesINTOgeodataframes\n",
        "\n",
        "# take our big dataset from above and turn it \n",
        "# from a 'dataframe' which is the data that folium uses to make maps \n",
        "#into a 'geodataframe' which is the data geopandas uses to make maps\n",
        "\n",
        "gdf_survey = gpd.GeoDataFrame(\n",
        "    survey_data_maxtime, geometry=gpd.points_from_xy(survey_data_maxtime.DDLon, survey_data_maxtime.DDLat))\n",
        "print(gdf_survey.head())"
      ],
      "execution_count": 0,
      "outputs": []
    },
    {
      "cell_type": "markdown",
      "metadata": {
        "id": "JrPgFKR_Wsut",
        "colab_type": "text"
      },
      "source": [
        "####Learning a new language – decomposing the code\n",
        "\n",
        "In the #codecell_Webmaps&Distributions_dataframesINTOgeodataframes, <font color='magenta'> gpd.GeoDataFrame()~</font>  allows you to define the geometry (<font color='magenta'>geometry=</font>) of the new dataframe  *'survey_data_maxtime'*, so  it can be mapped. \n",
        "\n",
        "Here, the points geolocation is defined by the x and y centroids (<font color='magenta'>gpd.points_from_xy~</font> )  following their respective geodetic coordinates that can be found in column *'survey_data_maxtime.DDLon'* for the Xs and *'survey_data_maxtime.DDLat'* for Ys.\n",
        "\n",
        "<font color='magenta'>print()~</font> allows you simply to see the results."
      ]
    },
    {
      "cell_type": "code",
      "metadata": {
        "id": "u6Hmn-KFvz8X",
        "colab_type": "code",
        "colab": {}
      },
      "source": [
        "#Codecell_Webmaps&Distributions_PlotGeodataframes\n",
        "\n",
        "#plot your data colouring the points by the period to which they belong (in column 'colmax')\n",
        "#the plot requires you to define which type of data it is (categorical or numerical)\n",
        "#figsize =(width, height)\n",
        "\n",
        "gdf_survey.plot(column='colmax', categorical=True, legend=True, figsize=(15,15))"
      ],
      "execution_count": 0,
      "outputs": []
    },
    {
      "cell_type": "markdown",
      "metadata": {
        "id": "N0k9G6d0yVPO",
        "colab_type": "text"
      },
      "source": [
        "### Assess the resulting map\n",
        "\n",
        "Is it useful? Why or why not?\n",
        "\n",
        "Can you see the distribution of sites from individual periods easily?\n",
        "\n",
        "Can you easily discern change over time?\n",
        "\n",
        "I'm not overly convinced by the result here.\n",
        "\n",
        "What other approach might we take?\n",
        "\n",
        "\n",
        "Let's try something else\n"
      ]
    },
    {
      "cell_type": "code",
      "metadata": {
        "id": "CZFoGw070Yq_",
        "colab_type": "code",
        "colab": {}
      },
      "source": [
        "#codecell__Webmaps&Distributions_SplittingUrData\n",
        "\n",
        "#Maybe it would be better to only look at two or three periods at a time\n",
        "\n",
        "#let's select a subset of our periods to see change from the early bronze age to hellenistic to late roman\n",
        "\n",
        "types = ['EB2','Hell','LRom']\n",
        "classic = gdf_survey.loc[gdf_survey['colmax'].isin(types)]\n",
        "classic.head()"
      ],
      "execution_count": 0,
      "outputs": []
    },
    {
      "cell_type": "markdown",
      "metadata": {
        "id": "NNxLvmD4WZgg",
        "colab_type": "text"
      },
      "source": [
        "in #codecell__Webmaps&Distributions_SplittingUrData, \n",
        "\n",
        "\n",
        "<font color='orangered'> ~ déjà vu ~</font>  the function .loc (<font color='magenta'>gdf_survey.loc~</font> ) is similar to .loc[] & .iloc[] used in pandas last week (in #codecell_makeabasicmap_BringingUrData2theMap). Note that loc using a label to index data whereas iloc uses an integer position. \n",
        "\n",
        "<font color='magenta'>.isin()~</font> command allows you to exclude data from "
      ]
    },
    {
      "cell_type": "code",
      "metadata": {
        "id": "ROpEOeRw1TZp",
        "colab_type": "code",
        "colab": {}
      },
      "source": [
        "#plot your data colouring the points by the period to which they belong\n",
        "classic.plot(column='colmax', categorical=True, legend=True, figsize=(15,15))"
      ],
      "execution_count": 0,
      "outputs": []
    },
    {
      "cell_type": "markdown",
      "metadata": {
        "id": "VQu68G8o1bDi",
        "colab_type": "text"
      },
      "source": [
        "## Thinking about data visualization and map design\n",
        "\n",
        "That's a bit better perhaps. The map is less crowded.\n",
        "\n",
        "Recall our discussions about how to design a map well. Clearly too much data introduces design problems.\n",
        "\n",
        "Well, now we can see the distributions a bit, and maybe say something about change over time, but there are still a lot of dots, and it's pretty clear dots from some periods are hidden under dots from other periods and we have no way to separate them. \n",
        "\n",
        "**what we need here is layers, so we can group our data and work with it interactively**\n",
        "*It would also be nice to have some context for all those dots*\n"
      ]
    },
    {
      "cell_type": "code",
      "metadata": {
        "id": "C8fCQvSyUrx-",
        "colab_type": "code",
        "colab": {}
      },
      "source": [
        "#Like last time, we'll use folium and one of it's plugins\n",
        "from folium.plugins import HeatMapWithTime\n"
      ],
      "execution_count": 0,
      "outputs": []
    },
    {
      "cell_type": "markdown",
      "metadata": {
        "id": "NBXk0ENHiIjR",
        "colab_type": "text"
      },
      "source": [
        "### Map Visualizations with Folium"
      ]
    },
    {
      "cell_type": "markdown",
      "metadata": {
        "id": "wPAgyDlciIjR",
        "colab_type": "text"
      },
      "source": [
        "\n",
        "To see the survey data in context and build our interactive maps, we'll start by generating the base map that will be used throughout this notebook.\n",
        "\n",
        "'Basemaps' are generic background maps, like a satellite image or an image of the street map. You know the different backgrounds you can show on google maps? Those are 'basemaps'. \n",
        "\n",
        "Have a look around the web, and you'll see that most modern online maps  use a basemap, so we're going to do so as well.\n"
      ]
    },
    {
      "cell_type": "code",
      "metadata": {
        "ExecuteTime": {
          "end_time": "2018-11-19T05:34:04.673013Z",
          "start_time": "2018-11-19T05:34:04.670120Z"
        },
        "id": "0H-uRYF1iIjS",
        "colab_type": "code",
        "colab": {}
      },
      "source": [
        "#get the survey area centre, like you did last week, so you can centre the map where the data is located\n",
        "\n",
        "location_survey=survey_data_maxtime['DDLat'].mean(), survey_data_maxtime['DDLon'].mean()\n",
        "print(location_survey)\n"
      ],
      "execution_count": 0,
      "outputs": []
    },
    {
      "cell_type": "code",
      "metadata": {
        "id": "wUBTM83AbAeX",
        "colab_type": "code",
        "colab": {}
      },
      "source": [
        "#define a basemap we can reuse. Use the coordiantes for the centre you generated just above to centre the basemap\n",
        "#This is a variant on how we did things last time...\n",
        "\n",
        "def generateBaseMap(default_location=[35.870086207930626, 23.301798820980512], default_zoom_start=11):\n",
        "    base_map = folium.Map(location=default_location, control_scale=True, zoom_start=default_zoom_start)\n",
        "    return base_map"
      ],
      "execution_count": 0,
      "outputs": []
    },
    {
      "cell_type": "markdown",
      "metadata": {
        "id": "4-qIFOBUiIjU",
        "colab_type": "text"
      },
      "source": [
        "### Review - basic map controls\n",
        "\n",
        "Arguments:<br><br>\n",
        "location: Define the default location to zoom at when rendering the map<br>\n",
        "zoom_start: The zoom level that the map will default to when rendering the map<br>\n",
        "control_scale: Shows the map scale for a given zoom level"
      ]
    },
    {
      "cell_type": "code",
      "metadata": {
        "id": "I8ffsWcqSyKG",
        "colab_type": "code",
        "colab": {}
      },
      "source": [
        ""
      ],
      "execution_count": 0,
      "outputs": []
    },
    {
      "cell_type": "code",
      "metadata": {
        "ExecuteTime": {
          "end_time": "2018-11-19T05:34:04.687135Z",
          "start_time": "2018-11-19T05:34:04.674745Z"
        },
        "id": "ZhOzNzEEiIjV",
        "colab_type": "code",
        "outputId": "dedba3b6-1a3a-46ff-ff66-069ae2c85768",
        "colab": {
          "base_uri": "https://localhost:8080/",
          "height": 854
        }
      },
      "source": [
        "#check the basemap is working\n",
        "base_map = generateBaseMap()\n",
        "base_map"
      ],
      "execution_count": 69,
      "outputs": [
        {
          "output_type": "execute_result",
          "data": {
            "text/html": [
              "<div style=\"width:100%;\"><div style=\"position:relative;width:100%;height:0;padding-bottom:60%;\"><iframe src=\"data:text/html;charset=utf-8;base64,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\" style=\"position:absolute;width:100%;height:100%;left:0;top:0;border:none !important;\" allowfullscreen webkitallowfullscreen mozallowfullscreen></iframe></div></div>"
            ],
            "text/plain": [
              "<folium.folium.Map at 0x7fa16a3a84a8>"
            ]
          },
          "metadata": {
            "tags": []
          },
          "execution_count": 69
        }
      ]
    },
    {
      "cell_type": "code",
      "metadata": {
        "ExecuteTime": {
          "end_time": "2018-11-19T06:05:45.764352Z",
          "start_time": "2018-11-19T06:05:45.761769Z"
        },
        "id": "--pBpUiviIjc",
        "colab_type": "code",
        "colab": {}
      },
      "source": [
        "#lets get the heatmap tool, like last time, let's also get a measure control so we can measure distance\n",
        "from folium import plugins\n",
        "from folium.plugins import HeatMap\n",
        "from folium.plugins import MeasureControl"
      ],
      "execution_count": 0,
      "outputs": []
    },
    {
      "cell_type": "markdown",
      "metadata": {
        "id": "g-4G4lb9iIje",
        "colab_type": "text"
      },
      "source": [
        "Let's start by comparing MRom to LRom, that is middle roman to late roman sites by putting their data in separate layers."
      ]
    },
    {
      "cell_type": "code",
      "metadata": {
        "ExecuteTime": {
          "end_time": "2018-11-19T05:34:05.037298Z",
          "start_time": "2018-11-19T05:34:04.818915Z"
        },
        "id": "2p4cDhYeiIjf",
        "colab_type": "code",
        "colab": {}
      },
      "source": [
        "# make a layer for when each period is more than 50% likely, so you have all the sites that are probably in that period\n",
        "survey_data_MRom = survey_data_maxtime.loc[(survey_data_maxtime['MRom'] > 50)]\n",
        "survey_data_ERom = survey_data_maxtime.loc[(survey_data_maxtime['ERom'] > 50)]\n"
      ],
      "execution_count": 0,
      "outputs": []
    },
    {
      "cell_type": "markdown",
      "metadata": {
        "id": "Da1dgQn7fsXx",
        "colab_type": "text"
      },
      "source": [
        "### The concept of layers\n",
        "\n",
        "We've introduced a new concept here. Maps have 'layers'. Each layer contains information and can be turned on and off. Think of this like a stack of transparent paper. Each sheet of paper is a layer, and can be added to or taken away from the stack. Their order can also be changed."
      ]
    },
    {
      "cell_type": "code",
      "metadata": {
        "ExecuteTime": {
          "end_time": "2018-11-19T10:09:37.970112Z",
          "start_time": "2018-11-19T10:09:34.940649Z"
        },
        "id": "DxWjo2YUiIjo",
        "colab_type": "code",
        "outputId": "8dbf5f27-0718-421a-eb42-ed9980f45d34",
        "colab": {
          "base_uri": "https://localhost:8080/",
          "height": 35
        }
      },
      "source": [
        "# like last time, make heatmaps, but one for each period,  put them in different layers.\n",
        "base_map = generateBaseMap()\n",
        "mrom = HeatMap(data=survey_data_MRom[['DDLat', 'DDLon', 'MRom']].groupby(['DDLat', 'DDLon']).sum().reset_index().values.tolist(), radius=8, max_zoom=13).add_to(base_map)\n",
        "erom = HeatMap(data=survey_data_ERom[['DDLat', 'DDLon', 'ERom']].groupby(['DDLat', 'DDLon']).sum().reset_index().values.tolist(), radius=8, max_zoom=13).add_to(base_map)\n",
        "\n",
        "#give the layers sensible names\n",
        "mrom.layer_name = 'Middle Roman Distribution'\n",
        "erom.layer_name = 'Early Roman Distribution'\n",
        "\n",
        "# add the layer control. This is the tool that lets you turn different layers in your map on and off\n",
        "folium.LayerControl().add_to(base_map)\n"
      ],
      "execution_count": 72,
      "outputs": [
        {
          "output_type": "execute_result",
          "data": {
            "text/plain": [
              "<folium.map.LayerControl at 0x7fa16a3a4160>"
            ]
          },
          "metadata": {
            "tags": []
          },
          "execution_count": 72
        }
      ]
    },
    {
      "cell_type": "code",
      "metadata": {
        "ExecuteTime": {
          "end_time": "2018-11-19T10:09:48.682799Z",
          "start_time": "2018-11-19T10:09:39.486706Z"
        },
        "id": "mzgBodwBiIjr",
        "colab_type": "code",
        "outputId": "346c5b27-aca6-4166-a7df-55fac3080c89",
        "colab": {
          "base_uri": "https://localhost:8080/",
          "height": 854
        }
      },
      "source": [
        "#Now generate your map by calling it by its name\n",
        "base_map"
      ],
      "execution_count": 73,
      "outputs": [
        {
          "output_type": "execute_result",
          "data": {
            "text/html": [
              "<div style=\"width:100%;\"><div style=\"position:relative;width:100%;height:0;padding-bottom:60%;\"><iframe src=\"data:text/html;charset=utf-8;base64,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\" style=\"position:absolute;width:100%;height:100%;left:0;top:0;border:none !important;\" allowfullscreen webkitallowfullscreen mozallowfullscreen></iframe></div></div>"
            ],
            "text/plain": [
              "<folium.folium.Map at 0x7fa16a398f28>"
            ]
          },
          "metadata": {
            "tags": []
          },
          "execution_count": 73
        }
      ]
    },
    {
      "cell_type": "markdown",
      "metadata": {
        "id": "wSCv-r8eXuXE",
        "colab_type": "text"
      },
      "source": [
        "Now try and add some more layers to the map to show other periods!"
      ]
    },
    {
      "cell_type": "code",
      "metadata": {
        "id": "engTEEWWe454",
        "colab_type": "code",
        "colab": {}
      },
      "source": [
        "# make a layer for when the max period is LRom or MRom to compare these periods\n",
        "survey_data_lrommax = survey_data_maxtime.loc[(survey_data_maxtime['colmax'] =='LRom')]\n",
        "survey_data_mrommax = survey_data_maxtime.loc[(survey_data_maxtime['colmax'] =='MRom')]\n"
      ],
      "execution_count": 0,
      "outputs": []
    },
    {
      "cell_type": "code",
      "metadata": {
        "id": "u_ucaKUkfW_F",
        "colab_type": "code",
        "outputId": "55dab453-4f8c-4309-c52a-946020fa9169",
        "colab": {
          "base_uri": "https://localhost:8080/",
          "height": 854
        }
      },
      "source": [
        "\n",
        "# like last time, make heatmaps, but one for each period,  put them in different layers\n",
        "base_map = generateBaseMap()\n",
        "\n",
        "lrommax = HeatMap(data=survey_data_lrommax[['DDLat', 'DDLon']].groupby(['DDLat', 'DDLon']).sum().reset_index().values.tolist(), radius=8, max_zoom=13).add_to(base_map)\n",
        "mrommax = HeatMap(data=survey_data_mrommax[['DDLat', 'DDLon']].groupby(['DDLat', 'DDLon']).sum().reset_index().values.tolist(), radius=8, max_zoom=13).add_to(base_map)\n",
        "\n",
        "#give the layers sensible names\n",
        "lrommax.layer_name = 'Late Roman Distribution'\n",
        "mrommax.layer_name = 'Middle Roman Distribution'\n",
        "\n",
        "# add the layer control\n",
        "folium.LayerControl().add_to(base_map)\n",
        "base_map\n",
        "\n",
        "\n",
        "# Adds a measure tool to the top right\n",
        "\n",
        "base_map.add_child(MeasureControl())\n"
      ],
      "execution_count": 75,
      "outputs": [
        {
          "output_type": "execute_result",
          "data": {
            "text/html": [
              "<div style=\"width:100%;\"><div style=\"position:relative;width:100%;height:0;padding-bottom:60%;\"><iframe src=\"data:text/html;charset=utf-8;base64,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\" style=\"position:absolute;width:100%;height:100%;left:0;top:0;border:none !important;\" allowfullscreen webkitallowfullscreen mozallowfullscreen></iframe></div></div>"
            ],
            "text/plain": [
              "<folium.folium.Map at 0x7fa17a731160>"
            ]
          },
          "metadata": {
            "tags": []
          },
          "execution_count": 75
        }
      ]
    },
    {
      "cell_type": "markdown",
      "metadata": {
        "id": "M85UnCT-lCKz",
        "colab_type": "text"
      },
      "source": [
        "# Making visual comparisons\n",
        "\n",
        "Perhaps it will be more useful to be able to view our distributions and explore them side by side, to help us compare what is happening in these two periods."
      ]
    },
    {
      "cell_type": "code",
      "metadata": {
        "id": "2NEHqdsAhYYy",
        "colab_type": "code",
        "colab": {}
      },
      "source": [
        "# get another plugin for side by side maps\n",
        "from folium.plugins import DualMap"
      ],
      "execution_count": 0,
      "outputs": []
    },
    {
      "cell_type": "code",
      "metadata": {
        "id": "EBBVGMamhNNY",
        "colab_type": "code",
        "outputId": "66354239-af20-4b48-f74b-e73ce122a0ff",
        "colab": {
          "base_uri": "https://localhost:8080/",
          "height": 854
        }
      },
      "source": [
        "# declare you are making a new map \"m\"\n",
        "\n",
        "# set the location to the location of your survey, set your starting zoom\n",
        "m = plugins.DualMap(location=location_survey, tiles=None, zoom_start=13)\n",
        "\n",
        "# the dual maps plugin automatically defines two buddy maps, \"m1\" and \"m2\" which pan and zoom together\n",
        "\n",
        "# give yourself some options in life for your base layers, add them to both maps 'm1' and 'm2' by just using \"m\"\n",
        "folium.TileLayer('cartodbpositron').add_to(m)\n",
        "folium.TileLayer('openstreetmap').add_to(m)\n",
        "\n",
        "\n",
        "# like last time, make heatmaps, one for each period,  put them in different layers\n",
        "# put one layer in the left hand map 'm' and the other in the right hand map 'm2'\n",
        "\n",
        "lrommax = HeatMap(data=survey_data_lrommax[['DDLat', 'DDLon']].groupby(['DDLat', 'DDLon']).sum().reset_index().values.tolist(), radius=8, max_zoom=13).add_to(m.m1)\n",
        "mrommax = HeatMap(data=survey_data_mrommax[['DDLat', 'DDLon']].groupby(['DDLat', 'DDLon']).sum().reset_index().values.tolist(), radius=8, max_zoom=13).add_to(m.m2)\n",
        "\n",
        "#give the layers sensible names\n",
        "lrommax.layer_name = 'Late Roman Distribution'\n",
        "mrommax.layer_name = 'Middle Roman Distribution'\n",
        "\n",
        "# layer control time\n",
        "folium.LayerControl(collapsed=False).add_to(m)\n",
        "\n",
        "# Adds a measure tool to the top right\n",
        "\n",
        "m.add_child(MeasureControl())\n",
        "\n",
        "#draw your side by side maps\n",
        "\n",
        "m"
      ],
      "execution_count": 77,
      "outputs": [
        {
          "output_type": "execute_result",
          "data": {
            "text/html": [
              "<div style=\"width:100%;\"><div style=\"position:relative;width:100%;height:0;padding-bottom:60%;\"><iframe src=\"data:text/html;charset=utf-8;base64,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\" style=\"position:absolute;width:100%;height:100%;left:0;top:0;border:none !important;\" allowfullscreen webkitallowfullscreen mozallowfullscreen></iframe></div></div>"
            ],
            "text/plain": [
              "<folium.plugins.dual_map.DualMap at 0x7fa16a398dd8>"
            ]
          },
          "metadata": {
            "tags": []
          },
          "execution_count": 77
        }
      ]
    },
    {
      "cell_type": "markdown",
      "metadata": {
        "id": "ZYz4hI_1kImv",
        "colab_type": "text"
      },
      "source": [
        "## visualization and interpretation\n",
        "\n",
        "Thought exercise: The results of these two maps should be similar but slightly different. What is making the difference?\n",
        "\n",
        "How good are you at interpreting these distributions and comparing them visually?\n",
        "\n",
        "*This is me hinting at you that you are going to end up wanting to use statistics eventually*\n"
      ]
    },
    {
      "cell_type": "markdown",
      "metadata": {
        "id": "XWAQRddKcogi",
        "colab_type": "text"
      },
      "source": [
        " \n",
        "\n",
        "# Think about basic principles\n",
        "\n",
        "The principles of what we've done this week are the same as the principles of what we did last week. \n",
        "\n",
        "I think it's important to learn to do things more than one way, and to adapt to slightly different tools. The software and code packages used for modern spatial analysis and mapping are pretty diverse and are always developing as people improve things. It doesn't make much sense to just learn one way of making maps mechanistically. The important thing is to understand the principles of what you're doing. ###which are?####\n",
        "\n",
        "In any code package that is meant to be used for making maps, odds are good you will find a way to set the zoom level, set the centre starting location, and set the initial scale. \n",
        "\n",
        "You will be able to set up colour schemes, map attributes, and make layers. Knowing keywords and princples is the important thing. "
      ]
    },
    {
      "cell_type": "markdown",
      "metadata": {
        "id": "3ZCz_MQuj8ZF",
        "colab_type": "text"
      },
      "source": [
        "## The End\n",
        "\n",
        "That's all for today. Be sure to save your copy of the notebook in your own repo so I can see it!"
      ]
    },
    {
      "cell_type": "markdown",
      "metadata": {
        "id": "0nGkpE2cU9xj",
        "colab_type": "text"
      },
      "source": [
        "#LexiCode\n",
        "In the past two practical labs, you have learned and experimented with  programming commands - !Remember to load first your libraries (folium, branca, pandas, geopandas, seaborn, matplotlib.pyplot and numpy) to use this new language! - that you can now reuse with your own datasets :\n",
        "\n",
        "\n",
        ">Lexicode_MakingaBasicMap | Lexicode_Webmaps&Distributions\n",
        ">--- | ---\n",
        ">\t==   () [] | pd.concat()\n",
        ">.head_csv() | .dtype()\n",
        ">.read_csv() | astype()\n",
        ">mean()  | fillna()\n",
        ">folium.Map | def return\n",
        ">range() | .apply(lambda x:*function*,axis=)\n",
        ">len() | pd.merge()\n",
        ">iloc[]| how= , left_index= ,left_index= \n",
        ">.value_counts()| gpd.GeoDataFrame()\n",
        ">if =:| geometry=gpd.points_from_xy\n",
        ">elif =: |print() \n",
        ">else =:| .isin(types)\n",
        ">folium.Marker()| \n",
        ">folium.Icon()| \n",
        ">folium.Circle| \n",
        ">popup= | \n",
        ">radius= | \n",
        ">.values.tolist() | \n",
        ">plugins.HeatMap()| \n",
        ">  | \n",
        "\n",
        "\n"
      ]
    }
  ]
}